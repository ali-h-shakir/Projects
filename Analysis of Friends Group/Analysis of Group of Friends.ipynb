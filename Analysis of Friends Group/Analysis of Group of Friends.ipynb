{
 "cells": [
  {
   "cell_type": "markdown",
   "id": "7cadb8e4",
   "metadata": {},
   "source": [
    "# Exploratory Data Analysis\n",
    "\n",
    "## Dataset about a group of friends\n",
    "\n",
    "\n",
    "### Setting up the Environment\n",
    "Setting up the environment by loading the 'tidyverse' packages."
   ]
  },
  {
   "cell_type": "code",
   "execution_count": 6,
   "id": "42b59192",
   "metadata": {},
   "outputs": [],
   "source": [
    "library(tidyverse)\n",
    "library(ggplot2)"
   ]
  },
  {
   "cell_type": "markdown",
   "id": "580bf4ef",
   "metadata": {},
   "source": [
    "### Exploratory Data Analysis\n",
    "\n",
    "Next, we will read our dataset and explore the structure of the data.\n",
    "\n",
    "In this scenario, we will explore the variables age, height and eye colour amongst a group of friends."
   ]
  },
  {
   "cell_type": "code",
   "execution_count": 7,
   "id": "8a9eca55",
   "metadata": {},
   "outputs": [
    {
     "name": "stdout",
     "output_type": "stream",
     "text": [
      "Observations: 8\n",
      "Variables: 5\n",
      "$ Name       <fct> John, Mary, Adam, Paul, Lisa, Sarah, Andrew, John\n",
      "$ Sex        <fct> Male, Female, Male, Male, Female, Female, Male, Male\n",
      "$ Eye.Colour <fct> Blue, Brown, Blue, Brown, Blue, Blue, Blue, Brown\n",
      "$ Age        <int> 23, 24, 25, 22, 24, 21, 26, 24\n",
      "$ Height     <dbl> 1.82, 1.78, 1.84, 1.81, 1.76, 1.78, 1.83, 1.81\n"
     ]
    }
   ],
   "source": [
    "friends <- read.csv(\"friends.csv\")\n",
    "glimpse(friends)"
   ]
  },
  {
   "cell_type": "code",
   "execution_count": 8,
   "id": "49739bae",
   "metadata": {},
   "outputs": [
    {
     "data": {
      "text/html": [
       "<table>\n",
       "<thead><tr><th scope=col>Name</th><th scope=col>Sex</th><th scope=col>Eye.Colour</th><th scope=col>Age</th><th scope=col>Height</th></tr></thead>\n",
       "<tbody>\n",
       "\t<tr><td>John  </td><td>Male  </td><td>Blue  </td><td>23    </td><td>1.82  </td></tr>\n",
       "\t<tr><td>Mary  </td><td>Female</td><td>Brown </td><td>24    </td><td>1.78  </td></tr>\n",
       "\t<tr><td>Adam  </td><td>Male  </td><td>Blue  </td><td>25    </td><td>1.84  </td></tr>\n",
       "\t<tr><td>Paul  </td><td>Male  </td><td>Brown </td><td>22    </td><td>1.81  </td></tr>\n",
       "\t<tr><td>Lisa  </td><td>Female</td><td>Blue  </td><td>24    </td><td>1.76  </td></tr>\n",
       "\t<tr><td>Sarah </td><td>Female</td><td>Blue  </td><td>21    </td><td>1.78  </td></tr>\n",
       "</tbody>\n",
       "</table>\n"
      ],
      "text/latex": [
       "\\begin{tabular}{r|lllll}\n",
       " Name & Sex & Eye.Colour & Age & Height\\\\\n",
       "\\hline\n",
       "\t John   & Male   & Blue   & 23     & 1.82  \\\\\n",
       "\t Mary   & Female & Brown  & 24     & 1.78  \\\\\n",
       "\t Adam   & Male   & Blue   & 25     & 1.84  \\\\\n",
       "\t Paul   & Male   & Brown  & 22     & 1.81  \\\\\n",
       "\t Lisa   & Female & Blue   & 24     & 1.76  \\\\\n",
       "\t Sarah  & Female & Blue   & 21     & 1.78  \\\\\n",
       "\\end{tabular}\n"
      ],
      "text/markdown": [
       "\n",
       "| Name | Sex | Eye.Colour | Age | Height |\n",
       "|---|---|---|---|---|\n",
       "| John   | Male   | Blue   | 23     | 1.82   |\n",
       "| Mary   | Female | Brown  | 24     | 1.78   |\n",
       "| Adam   | Male   | Blue   | 25     | 1.84   |\n",
       "| Paul   | Male   | Brown  | 22     | 1.81   |\n",
       "| Lisa   | Female | Blue   | 24     | 1.76   |\n",
       "| Sarah  | Female | Blue   | 21     | 1.78   |\n",
       "\n"
      ],
      "text/plain": [
       "  Name  Sex    Eye.Colour Age Height\n",
       "1 John  Male   Blue       23  1.82  \n",
       "2 Mary  Female Brown      24  1.78  \n",
       "3 Adam  Male   Blue       25  1.84  \n",
       "4 Paul  Male   Brown      22  1.81  \n",
       "5 Lisa  Female Blue       24  1.76  \n",
       "6 Sarah Female Blue       21  1.78  "
      ]
     },
     "metadata": {},
     "output_type": "display_data"
    }
   ],
   "source": [
    "head(friends)"
   ]
  },
  {
   "cell_type": "markdown",
   "id": "c558dd98",
   "metadata": {},
   "source": [
    "### Plotting Height by Age\n",
    "\n",
    "Let's explore how height varies with respect to age"
   ]
  },
  {
   "cell_type": "code",
   "execution_count": 9,
   "id": "3121e34c",
   "metadata": {},
   "outputs": [
    {
     "data": {
      "image/png": "[encoded data removed]",
      "text/plain": [
       "plot without title"
      ]
     },
     "metadata": {},
     "output_type": "display_data"
    }
   ],
   "source": [
    "a <- friends %>% \n",
    "  ggplot(aes(Age, Height))+\n",
    "  geom_point()+\n",
    "  theme_classic()+\n",
    "  labs(title = \"Height by Age\")\n",
    "print(a)"
   ]
  },
  {
   "cell_type": "markdown",
   "id": "ca55a8eb",
   "metadata": {},
   "source": [
    "Based on the graph, it seems that the oldest members are the tallest.\n",
    "\n",
    "Let's add another variable in the mix.\n",
    "\n",
    "### Plotting Height by Age, with added comparison of Sex\n",
    "\n",
    "How does the height relate to the sexes of the friends? We can plot this by adding colour to the scatterplot."
   ]
  },
  {
   "cell_type": "code",
   "execution_count": 10,
   "id": "9764115d",
   "metadata": {},
   "outputs": [
    {
     "data": {
      "image/png": "[encoded data removed]",
      "text/plain": [
       "plot without title"
      ]
     },
     "metadata": {},
     "output_type": "display_data"
    }
   ],
   "source": [
    "a + geom_point(aes(colour = Sex))+\n",
    "  labs(title = \"Height by Age for each Sex\")"
   ]
  },
  {
   "cell_type": "markdown",
   "id": "fa72f120",
   "metadata": {},
   "source": [
    "The graph above tells that males seem to be taller than females amongst these group of friends.\n",
    "\n",
    "Next we can look at some summary statistics for each group\n",
    "\n",
    "### Summary Statistics for the group\n",
    "\n",
    "Let's look at summary statistics for the group\n",
    "\n",
    "#### Mean Male Height"
   ]
  },
  {
   "cell_type": "code",
   "execution_count": 11,
   "id": "c7312f74",
   "metadata": {},
   "outputs": [
    {
     "data": {
      "text/html": [
       "<table>\n",
       "<thead><tr><th scope=col>mean_m_height</th></tr></thead>\n",
       "<tbody>\n",
       "\t<tr><td>1.822</td></tr>\n",
       "</tbody>\n",
       "</table>\n"
      ],
      "text/latex": [
       "\\begin{tabular}{r|l}\n",
       " mean\\_m\\_height\\\\\n",
       "\\hline\n",
       "\t 1.822\\\\\n",
       "\\end{tabular}\n"
      ],
      "text/markdown": [
       "\n",
       "| mean_m_height |\n",
       "|---|\n",
       "| 1.822 |\n",
       "\n"
      ],
      "text/plain": [
       "  mean_m_height\n",
       "1 1.822        "
      ]
     },
     "metadata": {},
     "output_type": "display_data"
    }
   ],
   "source": [
    "friends %>% \n",
    "  filter(Sex == \"Male\") %>% \n",
    "  summarize(mean_m_height = mean(Height))"
   ]
  },
  {
   "cell_type": "markdown",
   "id": "22efa2b6",
   "metadata": {},
   "source": [
    "#### Mean Female Height"
   ]
  },
  {
   "cell_type": "code",
   "execution_count": 12,
   "id": "4752c94e",
   "metadata": {},
   "outputs": [
    {
     "data": {
      "text/html": [
       "<table>\n",
       "<thead><tr><th scope=col>mean_f_height</th></tr></thead>\n",
       "<tbody>\n",
       "\t<tr><td>1.773333</td></tr>\n",
       "</tbody>\n",
       "</table>\n"
      ],
      "text/latex": [
       "\\begin{tabular}{r|l}\n",
       " mean\\_f\\_height\\\\\n",
       "\\hline\n",
       "\t 1.773333\\\\\n",
       "\\end{tabular}\n"
      ],
      "text/markdown": [
       "\n",
       "| mean_f_height |\n",
       "|---|\n",
       "| 1.773333 |\n",
       "\n"
      ],
      "text/plain": [
       "  mean_f_height\n",
       "1 1.773333     "
      ]
     },
     "metadata": {},
     "output_type": "display_data"
    }
   ],
   "source": [
    "friends %>% \n",
    "  filter(Sex == \"Female\") %>% \n",
    "  summarize(mean_f_height = mean(Height))"
   ]
  },
  {
   "cell_type": "markdown",
   "id": "6e519e97",
   "metadata": {},
   "source": [
    "The summary statistics indicate that males are indeed on average taller than females within these group of friends\n",
    "\n",
    "Let's try to add another variable in our comparison\n",
    "\n",
    "### Plotting Height by Age, showing eye colour by Sex"
   ]
  },
  {
   "cell_type": "code",
   "execution_count": 13,
   "id": "0772f145",
   "metadata": {},
   "outputs": [
    {
     "data": {
      "image/png": "[encoded data removed]",
      "text/plain": [
       "plot without title"
      ]
     },
     "metadata": {},
     "output_type": "display_data"
    }
   ],
   "source": [
    "friends %>% \n",
    "  ggplot(aes(Age, Height))+\n",
    "  geom_point(aes(colour = Eye.Colour))+\n",
    "  theme_classic()+\n",
    "  facet_wrap(~Sex)+\n",
    "  labs(title = \"Height by Age with Eye Colour for each Sex\")"
   ]
  },
  {
   "cell_type": "markdown",
   "id": "07d45678",
   "metadata": {},
   "source": [
    "Adding the additional variable of eye colour to our analysis shows us that\n",
    "\n",
    "- For females, the tallest females have both types of eye colours.\n",
    "\n",
    "- For males, the tallest males seem to have blue eye colour."
   ]
  }
 ],
 "metadata": {
  "kernelspec": {
   "display_name": "R",
   "language": "R",
   "name": "ir"
  },
  "language_info": {
   "codemirror_mode": "r",
   "file_extension": ".r",
   "mimetype": "text/x-r-source",
   "name": "R",
   "pygments_lexer": "r",
   "version": "3.6.1"
  }
 },
 "nbformat": 4,
 "nbformat_minor": 5
}
