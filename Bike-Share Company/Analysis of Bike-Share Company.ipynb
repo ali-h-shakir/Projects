{
 "cells": [
  {
   "cell_type": "markdown",
   "id": "0a95656c",
   "metadata": {},
   "source": [
    "# Marketing Analytics Case Study\n",
    "\n",
    "## How does a Bike-Share company navigate speedy success? \n",
    "### Case Study - Google Data Analytics Certificate\n",
    "\n",
    "\n",
    "### Company Background\n",
    "\n",
    "In 2016, Cyclistic launched a successful bike-share offering. Since then, the program has grown to a fleet of 5,824 bicycles that are geotracked and locked into a network of 692 stations across Chicago. The bikes can be unlocked from one station and returned to any other station in the system anytime.\n",
    "\n",
    "Until now, Cyclistic’s marketing strategy relied on building general awareness and appealing to broad consumer segments. One approach that helped make these things possible was the flexibility of its pricing plans: single-ride passes, full-day passes, and annual memberships. Customers who purchase single-ride or full-day passes are referred to as casual riders. Customers who purchase annual memberships are Cyclistic members.\n",
    "\n",
    "Cyclistic’s finance analysts have concluded that annual members are much more profitable than casual riders. Although the pricing flexibility helps Cyclistic attract more customers, Lily Moreno (Director of Marketing) believes that maximizing the number of annual members will be key to future growth. Rather than creating a marketing campaign that targets all-new customers, Moreno believes there is a very good chance to convert casual riders into members. She notes that casual riders are already aware of the Cyclistic program and have chosen Cyclistic for their mobility needs.\n",
    "\n",
    "Moreno has set a clear goal: Design marketing strategies aimed at converting casual riders into annual members. In order to do that, however, the marketing analyst team needs to better understand how annual members and casual riders differ, why casual riders would buy a membership, and how digital media could affect their marketing tactics. Moreno and her team are interested in analyzing the Cyclistic historical bike trip data to identify trends.\n",
    "\n",
    "### Business Task \n",
    "Q: How do annual members and casual riders use Cyclistic bikes differently?\n",
    "\n",
    "### Setting up Environment"
   ]
  },
  {
   "cell_type": "code",
   "execution_count": 1,
   "id": "41b0b64d",
   "metadata": {},
   "outputs": [
    {
     "name": "stderr",
     "output_type": "stream",
     "text": [
      "Registered S3 methods overwritten by 'ggplot2':\n",
      "  method         from \n",
      "  [.quosures     rlang\n",
      "  c.quosures     rlang\n",
      "  print.quosures rlang\n",
      "Registered S3 method overwritten by 'rvest':\n",
      "  method            from\n",
      "  read_xml.response xml2\n",
      "-- Attaching packages --------------------------------------- tidyverse 1.2.1 --\n",
      "v ggplot2 3.1.1       v purrr   0.3.2  \n",
      "v tibble  2.1.1       v dplyr   0.8.0.1\n",
      "v tidyr   0.8.3       v stringr 1.4.0  \n",
      "v readr   1.3.1       v forcats 0.4.0  \n",
      "-- Conflicts ------------------------------------------ tidyverse_conflicts() --\n",
      "x dplyr::filter() masks stats::filter()\n",
      "x dplyr::lag()    masks stats::lag()\n",
      "\n",
      "Attaching package: 'lubridate'\n",
      "\n",
      "The following object is masked from 'package:base':\n",
      "\n",
      "    date\n",
      "\n"
     ]
    },
    {
     "data": {
      "text/html": [
       "'C:/Users/alihs/Documents/Analytics Courses/R New Project 01/Case 1 - Cyclist Bike Study'"
      ],
      "text/latex": [
       "'C:/Users/alihs/Documents/Analytics Courses/R New Project 01/Case 1 - Cyclist Bike Study'"
      ],
      "text/markdown": [
       "'C:/Users/alihs/Documents/Analytics Courses/R New Project 01/Case 1 - Cyclist Bike Study'"
      ],
      "text/plain": [
       "[1] \"C:/Users/alihs/Documents/Analytics Courses/R New Project 01/Case 1 - Cyclist Bike Study\""
      ]
     },
     "metadata": {},
     "output_type": "display_data"
    }
   ],
   "source": [
    "library(tidyverse)\n",
    "library(lubridate)\n",
    "library(ggplot2)\n",
    "getwd()"
   ]
  },
  {
   "cell_type": "markdown",
   "id": "e1f06907",
   "metadata": {},
   "source": [
    "### Collecting Data"
   ]
  },
  {
   "cell_type": "code",
   "execution_count": 2,
   "id": "60051f03",
   "metadata": {},
   "outputs": [],
   "source": [
    "# Uploading datasets\n",
    "\n",
    "q2_2019 <- read.csv(\"Trips_2019_Q2.csv\")\n",
    "q3_2019 <- read.csv(\"Trips_2019_Q3.csv\")\n",
    "q4_2019 <- read.csv(\"Trips_2019_Q4.csv\")\n",
    "q1_2020 <- read.csv(\"Trips_2020_Q1.csv\")"
   ]
  },
  {
   "cell_type": "markdown",
   "id": "a295c98c",
   "metadata": {},
   "source": [
    "### Combining Data"
   ]
  },
  {
   "cell_type": "code",
   "execution_count": 3,
   "id": "44940b0a",
   "metadata": {},
   "outputs": [
    {
     "data": {
      "text/html": [
       "<ol class=list-inline>\n",
       "\t<li>'ride_id'</li>\n",
       "\t<li>'started_at'</li>\n",
       "\t<li>'ended_at'</li>\n",
       "\t<li>'rideable_type'</li>\n",
       "\t<li>'duration'</li>\n",
       "\t<li>'start_station_id'</li>\n",
       "\t<li>'start_station_name'</li>\n",
       "\t<li>'end_station_id'</li>\n",
       "\t<li>'end_station_name'</li>\n",
       "\t<li>'member_casual'</li>\n",
       "\t<li>'gender'</li>\n",
       "\t<li>'birthday_year'</li>\n",
       "</ol>\n"
      ],
      "text/latex": [
       "\\begin{enumerate*}\n",
       "\\item 'ride\\_id'\n",
       "\\item 'started\\_at'\n",
       "\\item 'ended\\_at'\n",
       "\\item 'rideable\\_type'\n",
       "\\item 'duration'\n",
       "\\item 'start\\_station\\_id'\n",
       "\\item 'start\\_station\\_name'\n",
       "\\item 'end\\_station\\_id'\n",
       "\\item 'end\\_station\\_name'\n",
       "\\item 'member\\_casual'\n",
       "\\item 'gender'\n",
       "\\item 'birthday\\_year'\n",
       "\\end{enumerate*}\n"
      ],
      "text/markdown": [
       "1. 'ride_id'\n",
       "2. 'started_at'\n",
       "3. 'ended_at'\n",
       "4. 'rideable_type'\n",
       "5. 'duration'\n",
       "6. 'start_station_id'\n",
       "7. 'start_station_name'\n",
       "8. 'end_station_id'\n",
       "9. 'end_station_name'\n",
       "10. 'member_casual'\n",
       "11. 'gender'\n",
       "12. 'birthday_year'\n",
       "\n",
       "\n"
      ],
      "text/plain": [
       " [1] \"ride_id\"            \"started_at\"         \"ended_at\"          \n",
       " [4] \"rideable_type\"      \"duration\"           \"start_station_id\"  \n",
       " [7] \"start_station_name\" \"end_station_id\"     \"end_station_name\"  \n",
       "[10] \"member_casual\"      \"gender\"             \"birthday_year\"     "
      ]
     },
     "metadata": {},
     "output_type": "display_data"
    },
    {
     "data": {
      "text/html": [
       "<ol class=list-inline>\n",
       "\t<li>'trip_id'</li>\n",
       "\t<li>'start_time'</li>\n",
       "\t<li>'end_time'</li>\n",
       "\t<li>'bikeid'</li>\n",
       "\t<li>'tripduration'</li>\n",
       "\t<li>'from_station_id'</li>\n",
       "\t<li>'from_station_name'</li>\n",
       "\t<li>'to_station_id'</li>\n",
       "\t<li>'to_station_name'</li>\n",
       "\t<li>'usertype'</li>\n",
       "\t<li>'gender'</li>\n",
       "\t<li>'birthyear'</li>\n",
       "</ol>\n"
      ],
      "text/latex": [
       "\\begin{enumerate*}\n",
       "\\item 'trip\\_id'\n",
       "\\item 'start\\_time'\n",
       "\\item 'end\\_time'\n",
       "\\item 'bikeid'\n",
       "\\item 'tripduration'\n",
       "\\item 'from\\_station\\_id'\n",
       "\\item 'from\\_station\\_name'\n",
       "\\item 'to\\_station\\_id'\n",
       "\\item 'to\\_station\\_name'\n",
       "\\item 'usertype'\n",
       "\\item 'gender'\n",
       "\\item 'birthyear'\n",
       "\\end{enumerate*}\n"
      ],
      "text/markdown": [
       "1. 'trip_id'\n",
       "2. 'start_time'\n",
       "3. 'end_time'\n",
       "4. 'bikeid'\n",
       "5. 'tripduration'\n",
       "6. 'from_station_id'\n",
       "7. 'from_station_name'\n",
       "8. 'to_station_id'\n",
       "9. 'to_station_name'\n",
       "10. 'usertype'\n",
       "11. 'gender'\n",
       "12. 'birthyear'\n",
       "\n",
       "\n"
      ],
      "text/plain": [
       " [1] \"trip_id\"           \"start_time\"        \"end_time\"         \n",
       " [4] \"bikeid\"            \"tripduration\"      \"from_station_id\"  \n",
       " [7] \"from_station_name\" \"to_station_id\"     \"to_station_name\"  \n",
       "[10] \"usertype\"          \"gender\"            \"birthyear\"        "
      ]
     },
     "metadata": {},
     "output_type": "display_data"
    },
    {
     "data": {
      "text/html": [
       "<ol class=list-inline>\n",
       "\t<li>'trip_id'</li>\n",
       "\t<li>'start_time'</li>\n",
       "\t<li>'end_time'</li>\n",
       "\t<li>'bikeid'</li>\n",
       "\t<li>'tripduration'</li>\n",
       "\t<li>'from_station_id'</li>\n",
       "\t<li>'from_station_name'</li>\n",
       "\t<li>'to_station_id'</li>\n",
       "\t<li>'to_station_name'</li>\n",
       "\t<li>'usertype'</li>\n",
       "\t<li>'gender'</li>\n",
       "\t<li>'birthyear'</li>\n",
       "</ol>\n"
      ],
      "text/latex": [
       "\\begin{enumerate*}\n",
       "\\item 'trip\\_id'\n",
       "\\item 'start\\_time'\n",
       "\\item 'end\\_time'\n",
       "\\item 'bikeid'\n",
       "\\item 'tripduration'\n",
       "\\item 'from\\_station\\_id'\n",
       "\\item 'from\\_station\\_name'\n",
       "\\item 'to\\_station\\_id'\n",
       "\\item 'to\\_station\\_name'\n",
       "\\item 'usertype'\n",
       "\\item 'gender'\n",
       "\\item 'birthyear'\n",
       "\\end{enumerate*}\n"
      ],
      "text/markdown": [
       "1. 'trip_id'\n",
       "2. 'start_time'\n",
       "3. 'end_time'\n",
       "4. 'bikeid'\n",
       "5. 'tripduration'\n",
       "6. 'from_station_id'\n",
       "7. 'from_station_name'\n",
       "8. 'to_station_id'\n",
       "9. 'to_station_name'\n",
       "10. 'usertype'\n",
       "11. 'gender'\n",
       "12. 'birthyear'\n",
       "\n",
       "\n"
      ],
      "text/plain": [
       " [1] \"trip_id\"           \"start_time\"        \"end_time\"         \n",
       " [4] \"bikeid\"            \"tripduration\"      \"from_station_id\"  \n",
       " [7] \"from_station_name\" \"to_station_id\"     \"to_station_name\"  \n",
       "[10] \"usertype\"          \"gender\"            \"birthyear\"        "
      ]
     },
     "metadata": {},
     "output_type": "display_data"
    },
    {
     "data": {
      "text/html": [
       "<ol class=list-inline>\n",
       "\t<li>'ride_id'</li>\n",
       "\t<li>'rideable_type'</li>\n",
       "\t<li>'started_at'</li>\n",
       "\t<li>'ended_at'</li>\n",
       "\t<li>'start_station_name'</li>\n",
       "\t<li>'start_station_id'</li>\n",
       "\t<li>'end_station_name'</li>\n",
       "\t<li>'end_station_id'</li>\n",
       "\t<li>'start_lat'</li>\n",
       "\t<li>'start_lng'</li>\n",
       "\t<li>'end_lat'</li>\n",
       "\t<li>'end_lng'</li>\n",
       "\t<li>'member_casual'</li>\n",
       "</ol>\n"
      ],
      "text/latex": [
       "\\begin{enumerate*}\n",
       "\\item 'ride\\_id'\n",
       "\\item 'rideable\\_type'\n",
       "\\item 'started\\_at'\n",
       "\\item 'ended\\_at'\n",
       "\\item 'start\\_station\\_name'\n",
       "\\item 'start\\_station\\_id'\n",
       "\\item 'end\\_station\\_name'\n",
       "\\item 'end\\_station\\_id'\n",
       "\\item 'start\\_lat'\n",
       "\\item 'start\\_lng'\n",
       "\\item 'end\\_lat'\n",
       "\\item 'end\\_lng'\n",
       "\\item 'member\\_casual'\n",
       "\\end{enumerate*}\n"
      ],
      "text/markdown": [
       "1. 'ride_id'\n",
       "2. 'rideable_type'\n",
       "3. 'started_at'\n",
       "4. 'ended_at'\n",
       "5. 'start_station_name'\n",
       "6. 'start_station_id'\n",
       "7. 'end_station_name'\n",
       "8. 'end_station_id'\n",
       "9. 'start_lat'\n",
       "10. 'start_lng'\n",
       "11. 'end_lat'\n",
       "12. 'end_lng'\n",
       "13. 'member_casual'\n",
       "\n",
       "\n"
      ],
      "text/plain": [
       " [1] \"ride_id\"            \"rideable_type\"      \"started_at\"        \n",
       " [4] \"ended_at\"           \"start_station_name\" \"start_station_id\"  \n",
       " [7] \"end_station_name\"   \"end_station_id\"     \"start_lat\"         \n",
       "[10] \"start_lng\"          \"end_lat\"            \"end_lng\"           \n",
       "[13] \"member_casual\"     "
      ]
     },
     "metadata": {},
     "output_type": "display_data"
    }
   ],
   "source": [
    "# Comparing column names\n",
    "\n",
    "colnames(q2_2019)\n",
    "colnames(q3_2019)\n",
    "colnames(q4_2019)\n",
    "colnames(q1_2020)"
   ]
  },
  {
   "cell_type": "code",
   "execution_count": 4,
   "id": "2a175182",
   "metadata": {},
   "outputs": [],
   "source": [
    "# Renaming Columns\n",
    "\n",
    "q4_2019 <- rename(q4_2019\n",
    "                 ,ride_id = trip_id\n",
    "                 ,rideable_type = bikeid\n",
    "                 ,started_at = start_time\n",
    "                 ,ended_at = end_time\n",
    "                 ,start_station_name = from_station_name\n",
    "                 ,start_station_id = from_station_id\n",
    "                 ,end_station_name = to_station_name\n",
    "                 ,end_station_id = to_station_id\n",
    "                 ,member_casual = usertype)"
   ]
  },
  {
   "cell_type": "code",
   "execution_count": 5,
   "id": "21881e52",
   "metadata": {},
   "outputs": [],
   "source": [
    "q3_2019 <- rename(q3_2019\n",
    "                 ,ride_id = trip_id\n",
    "                 ,rideable_type = bikeid\n",
    "                 ,started_at = start_time\n",
    "                 ,ended_at = end_time\n",
    "                 ,start_station_name = from_station_name\n",
    "                 ,start_station_id = from_station_id\n",
    "                 ,end_station_name = to_station_name\n",
    "                 ,end_station_id = to_station_id\n",
    "                 ,member_casual = usertype)"
   ]
  },
  {
   "cell_type": "code",
   "execution_count": 6,
   "id": "c37f87a4",
   "metadata": {},
   "outputs": [
    {
     "name": "stdout",
     "output_type": "stream",
     "text": [
      "'data.frame':\t426887 obs. of  13 variables:\n",
      " $ ride_id           : Factor w/ 426887 levels \"000054ABAD1C067C\",..: 391813 240149 201495 336393 247366 183167 83476 271661 157400 43116 ...\n",
      " $ rideable_type     : Factor w/ 1 level \"docked_bike\": 1 1 1 1 1 1 1 1 1 1 ...\n",
      " $ started_at        : Factor w/ 399265 levels \"2020-01-01 00:04:44\",..: 89046 126625 43584 23366 125179 46802 46949 44870 132970 131198 ...\n",
      " $ ended_at          : Factor w/ 399532 levels \"2020-01-01 00:10:54\",..: 89084 126692 43537 23315 125199 46751 46895 44838 133007 131293 ...\n",
      " $ start_station_name: Factor w/ 607 levels \"2112 W Peterson Ave\",..: 583 130 45 133 143 566 193 193 566 126 ...\n",
      " $ start_station_id  : int  239 234 296 51 66 212 96 96 212 38 ...\n",
      " $ end_station_name  : Factor w/ 603 levels \"\",\"2112 W Peterson Ave\",..: 127 497 586 220 562 193 562 562 193 417 ...\n",
      " $ end_station_id    : int  326 318 117 24 212 96 212 212 96 100 ...\n",
      " $ start_lat         : num  42 42 41.9 41.9 41.9 ...\n",
      " $ start_lng         : num  -87.7 -87.7 -87.6 -87.6 -87.6 ...\n",
      " $ end_lat           : num  42 42 41.9 41.9 41.9 ...\n",
      " $ end_lng           : num  -87.7 -87.7 -87.7 -87.6 -87.6 ...\n",
      " $ member_casual     : Factor w/ 2 levels \"casual\",\"member\": 2 2 2 2 2 2 2 2 2 2 ...\n"
     ]
    }
   ],
   "source": [
    "# Inspecting dataframes to look for any incongruencies\n",
    "\n",
    "str(q1_2020)"
   ]
  },
  {
   "cell_type": "code",
   "execution_count": 7,
   "id": "81791861",
   "metadata": {},
   "outputs": [
    {
     "name": "stdout",
     "output_type": "stream",
     "text": [
      "'data.frame':\t704054 obs. of  12 variables:\n",
      " $ ride_id           : int  25223640 25223641 25223642 25223643 25223644 25223645 25223646 25223647 25223648 25223649 ...\n",
      " $ started_at        : Factor w/ 633380 levels \"2019-10-01 00:01:39\",..: 1 2 3 3 4 5 6 7 8 8 ...\n",
      " $ ended_at          : Factor w/ 632834 levels \"2019-10-01 00:06:34\",..: 5 1 7 36 26 2 10 16 18 101 ...\n",
      " $ rideable_type     : int  2215 6328 3003 3275 5294 1891 1061 1274 6011 2957 ...\n",
      " $ tripduration      : Factor w/ 10401 levels \"1,000.0\",\"1,001.0\",..: 10322 3628 9774 2691 888 5024 76 472 451 9370 ...\n",
      " $ start_station_id  : int  20 19 84 313 210 156 84 156 156 336 ...\n",
      " $ start_station_name: Factor w/ 610 levels \"2112 W Peterson Ave\",..: 476 538 392 323 25 140 392 140 140 159 ...\n",
      " $ end_station_id    : int  309 241 199 290 382 226 142 463 463 336 ...\n",
      " $ end_station_name  : Factor w/ 608 levels \"2112 W Peterson Ave\",..: 340 406 553 293 579 442 371 118 118 158 ...\n",
      " $ member_casual     : Factor w/ 2 levels \"Customer\",\"Subscriber\": 2 2 2 2 2 2 2 2 2 1 ...\n",
      " $ gender            : Factor w/ 3 levels \"\",\"Female\",\"Male\": 3 3 2 3 3 2 2 3 2 1 ...\n",
      " $ birthyear         : int  1987 1998 1991 1990 1987 1994 1991 1995 1993 NA ...\n"
     ]
    }
   ],
   "source": [
    "str(q4_2019)"
   ]
  },
  {
   "cell_type": "code",
   "execution_count": 8,
   "id": "a96246c2",
   "metadata": {},
   "outputs": [
    {
     "name": "stdout",
     "output_type": "stream",
     "text": [
      "'data.frame':\t1640718 obs. of  12 variables:\n",
      " $ ride_id           : int  23479388 23479389 23479390 23479391 23479392 23479393 23479394 23479395 23479396 23479397 ...\n",
      " $ started_at        : Factor w/ 1372358 levels \"2019-07-01 00:00:27\",..: 1 2 3 4 5 6 7 8 9 10 ...\n",
      " $ ended_at          : Factor w/ 1344539 levels \"2019-07-01 00:07:31\",..: 6 2 13 12 7 1 8 15 17 19 ...\n",
      " $ rideable_type     : int  3591 5353 6180 5540 6014 4941 3770 5442 2957 6091 ...\n",
      " $ tripduration      : Factor w/ 16676 levels \"1,000.0\",\"1,001.0\",..: 243 54 610 557 241 8361 281 606 642 648 ...\n",
      " $ start_station_id  : int  117 381 313 313 168 300 168 313 43 43 ...\n",
      " $ start_station_name: Factor w/ 612 levels \"2112 W Peterson Ave\",..: 595 590 323 323 376 47 376 323 386 386 ...\n",
      " $ end_station_id    : int  497 203 144 144 62 232 62 144 195 195 ...\n",
      " $ end_station_name  : Factor w/ 613 levels \"2112 W Peterson Ave\",..: 304 581 334 334 376 433 376 334 153 153 ...\n",
      " $ member_casual     : Factor w/ 2 levels \"Customer\",\"Subscriber\": 2 1 1 1 1 2 1 1 1 1 ...\n",
      " $ gender            : Factor w/ 3 levels \"\",\"Female\",\"Male\": 3 1 1 1 1 3 1 1 1 1 ...\n",
      " $ birthyear         : int  1992 NA NA NA NA 1990 NA NA NA NA ...\n"
     ]
    }
   ],
   "source": [
    "str(q3_2019)"
   ]
  },
  {
   "cell_type": "code",
   "execution_count": 9,
   "id": "11b3217e",
   "metadata": {},
   "outputs": [
    {
     "name": "stdout",
     "output_type": "stream",
     "text": [
      "'data.frame':\t1048575 obs. of  12 variables:\n",
      " $ ride_id           : int  22178529 22178530 22178531 22178532 22178533 22178534 22178535 22178536 22178537 22178538 ...\n",
      " $ started_at        : Factor w/ 101769 levels \"2019-04-01 0:02\",..: 1 2 3 4 5 5 6 7 8 8 ...\n",
      " $ ended_at          : Factor w/ 102075 levels \"2019-04-01 0:09\",..: 1 4 2 3 7 5 6 7 10 10 ...\n",
      " $ rideable_type     : int  6251 6226 5649 4151 3270 3123 6418 4513 3280 5534 ...\n",
      " $ duration          : Factor w/ 13378 levels \"1,000.00\",\"1,001.00\",..: 7430 53 4778 6152 8 4785 8737 6250 3598 3581 ...\n",
      " $ start_station_id  : int  81 317 283 26 202 420 503 260 211 211 ...\n",
      " $ start_station_name: Factor w/ 610 levels \"2112 W Peterson Ave\",..: 166 606 335 373 249 215 204 292 511 511 ...\n",
      " $ end_station_id    : int  56 59 174 133 129 426 500 499 211 211 ...\n",
      " $ end_station_name  : Factor w/ 612 levels \"2112 W Peterson Ave\",..: 195 558 86 304 44 217 98 306 512 512 ...\n",
      " $ member_casual     : Factor w/ 2 levels \"Customer\",\"Subscriber\": 2 2 2 2 2 2 2 2 1 1 ...\n",
      " $ gender            : Factor w/ 3 levels \"\",\"Female\",\"Male\": 3 2 3 3 3 3 3 3 1 1 ...\n",
      " $ birthday_year     : int  1975 1984 1990 1993 1992 1999 1969 1991 NA NA ...\n"
     ]
    }
   ],
   "source": [
    "str(q2_2019)"
   ]
  },
  {
   "cell_type": "code",
   "execution_count": 10,
   "id": "f58a44df",
   "metadata": {},
   "outputs": [],
   "source": [
    "# Convert ride_id and rideable_type to character so that they can stack correctly.\n",
    "\n",
    "q4_2019 <- mutate(q4_2019, ride_id = as.character(ride_id)\n",
    "                 ,rideable_type = as.character(rideable_type))\n",
    "\n",
    "q3_2019 <- mutate(q3_2019, ride_id = as.character(ride_id)\n",
    "                 ,rideable_type = as.character(rideable_type))\n",
    "\n",
    "q2_2019 <- mutate(q2_2019, ride_id = as.character(ride_id)\n",
    "                 ,rideable_type = as.character(rideable_type))"
   ]
  },
  {
   "cell_type": "code",
   "execution_count": 11,
   "id": "d358daeb",
   "metadata": {},
   "outputs": [
    {
     "name": "stderr",
     "output_type": "stream",
     "text": [
      "Warning message in bind_rows_(x, .id):\n",
      "\"Unequal factor levels: coercing to character\"Warning message in bind_rows_(x, .id):\n",
      "\"binding character and factor vector, coercing into character vector\"Warning message in bind_rows_(x, .id):\n",
      "\"binding character and factor vector, coercing into character vector\"Warning message in bind_rows_(x, .id):\n",
      "\"Unequal factor levels: coercing to character\"Warning message in bind_rows_(x, .id):\n",
      "\"binding character and factor vector, coercing into character vector\"Warning message in bind_rows_(x, .id):\n",
      "\"binding character and factor vector, coercing into character vector\"Warning message in bind_rows_(x, .id):\n",
      "\"Unequal factor levels: coercing to character\"Warning message in bind_rows_(x, .id):\n",
      "\"binding character and factor vector, coercing into character vector\"Warning message in bind_rows_(x, .id):\n",
      "\"binding character and factor vector, coercing into character vector\"Warning message in bind_rows_(x, .id):\n",
      "\"Unequal factor levels: coercing to character\"Warning message in bind_rows_(x, .id):\n",
      "\"binding character and factor vector, coercing into character vector\"Warning message in bind_rows_(x, .id):\n",
      "\"binding character and factor vector, coercing into character vector\"Warning message in bind_rows_(x, .id):\n",
      "\"binding character and factor vector, coercing into character vector\"Warning message in bind_rows_(x, .id):\n",
      "\"binding character and factor vector, coercing into character vector\"Warning message in bind_rows_(x, .id):\n",
      "\"Unequal factor levels: coercing to character\"Warning message in bind_rows_(x, .id):\n",
      "\"binding character and factor vector, coercing into character vector\"Warning message in bind_rows_(x, .id):\n",
      "\"binding character and factor vector, coercing into character vector\"Warning message in bind_rows_(x, .id):\n",
      "\"binding character and factor vector, coercing into character vector\"Warning message in bind_rows_(x, .id):\n",
      "\"binding character and factor vector, coercing into character vector\"Warning message in bind_rows_(x, .id):\n",
      "\"binding character and factor vector, coercing into character vector\"Warning message in bind_rows_(x, .id):\n",
      "\"binding character and factor vector, coercing into character vector\"Warning message in bind_rows_(x, .id):\n",
      "\"binding character and factor vector, coercing into character vector\"Warning message in bind_rows_(x, .id):\n",
      "\"binding character and factor vector, coercing into character vector\"Warning message in bind_rows_(x, .id):\n",
      "\"binding character and factor vector, coercing into character vector\"Warning message in bind_rows_(x, .id):\n",
      "\"binding character and factor vector, coercing into character vector\"Warning message in bind_rows_(x, .id):\n",
      "\"Unequal factor levels: coercing to character\"Warning message in bind_rows_(x, .id):\n",
      "\"binding character and factor vector, coercing into character vector\"Warning message in bind_rows_(x, .id):\n",
      "\"binding character and factor vector, coercing into character vector\""
     ]
    }
   ],
   "source": [
    "# Stack individual quarters dataframes into one big data frame\n",
    "\n",
    "all_trips <- bind_rows(q2_2019, q3_2019, q4_2019, q1_2020)"
   ]
  },
  {
   "cell_type": "code",
   "execution_count": 12,
   "id": "ec186a3a",
   "metadata": {},
   "outputs": [
    {
     "data": {
      "text/html": [
       "<table>\n",
       "<thead><tr><th scope=col>ride_id</th><th scope=col>started_at</th><th scope=col>ended_at</th><th scope=col>rideable_type</th><th scope=col>duration</th><th scope=col>start_station_id</th><th scope=col>start_station_name</th><th scope=col>end_station_id</th><th scope=col>end_station_name</th><th scope=col>member_casual</th><th scope=col>gender</th><th scope=col>birthday_year</th><th scope=col>tripduration</th><th scope=col>birthyear</th><th scope=col>start_lat</th><th scope=col>start_lng</th><th scope=col>end_lat</th><th scope=col>end_lng</th></tr></thead>\n",
       "<tbody>\n",
       "\t<tr><td>22178529                                                         </td><td>2019-04-01 0:02                                                  </td><td>2019-04-01 0:09                                                  </td><td>6251                                                             </td><td><span style=white-space:pre-wrap>446     </span>                 </td><td> 81                                                              </td><td><span style=white-space:pre-wrap>Daley Center Plaza       </span></td><td> 56                                                              </td><td>Desplaines St &amp; Kinzie St                                    </td><td>Subscriber                                                       </td><td><span style=white-space:pre-wrap>Male  </span>                   </td><td>1975                                                             </td><td>NA                                                               </td><td>NA                                                               </td><td>NA                                                               </td><td>NA                                                               </td><td>NA                                                               </td><td>NA                                                               </td></tr>\n",
       "\t<tr><td>22178530                                                             </td><td>2019-04-01 0:03                                                      </td><td>2019-04-01 0:20                                                      </td><td>6226                                                                 </td><td>1,048.00                                                             </td><td>317                                                                  </td><td><span style=white-space:pre-wrap>Wood St &amp; Taylor St      </span></td><td> 59                                                                  </td><td>Wabash Ave &amp; Roosevelt Rd                                        </td><td>Subscriber                                                           </td><td>Female                                                               </td><td>1984                                                                 </td><td>NA                                                                   </td><td>NA                                                                   </td><td>NA                                                                   </td><td>NA                                                                   </td><td>NA                                                                   </td><td>NA                                                                   </td></tr>\n",
       "\t<tr><td>22178531                                                             </td><td>2019-04-01 0:11                                                      </td><td>2019-04-01 0:15                                                      </td><td>5649                                                                 </td><td><span style=white-space:pre-wrap>252     </span>                     </td><td>283                                                                  </td><td>LaSalle St &amp; Jackson Blvd                                        </td><td>174                                                                  </td><td><span style=white-space:pre-wrap>Canal St &amp; Madison St    </span></td><td>Subscriber                                                           </td><td><span style=white-space:pre-wrap>Male  </span>                       </td><td>1990                                                                 </td><td>NA                                                                   </td><td>NA                                                                   </td><td>NA                                                                   </td><td>NA                                                                   </td><td>NA                                                                   </td><td>NA                                                                   </td></tr>\n",
       "\t<tr><td>22178532                                        </td><td>2019-04-01 0:13                                 </td><td>2019-04-01 0:18                                 </td><td>4151                                            </td><td><span style=white-space:pre-wrap>357     </span></td><td> 26                                             </td><td>McClurg Ct &amp; Illinois St                    </td><td>133                                             </td><td>Kingsbury St &amp; Kinzie St                    </td><td>Subscriber                                      </td><td><span style=white-space:pre-wrap>Male  </span>  </td><td>1993                                            </td><td>NA                                              </td><td>NA                                              </td><td>NA                                              </td><td>NA                                              </td><td>NA                                              </td><td>NA                                              </td></tr>\n",
       "\t<tr><td>22178533                                                             </td><td>2019-04-01 0:19                                                      </td><td>2019-04-01 0:36                                                      </td><td>3270                                                                 </td><td>1,007.00                                                             </td><td>202                                                                  </td><td><span style=white-space:pre-wrap>Halsted St &amp; 18th St     </span></td><td>129                                                                  </td><td>Blue Island Ave &amp; 18th St                                        </td><td>Subscriber                                                           </td><td><span style=white-space:pre-wrap>Male  </span>                       </td><td>1992                                                                 </td><td>NA                                                                   </td><td>NA                                                                   </td><td>NA                                                                   </td><td>NA                                                                   </td><td>NA                                                                   </td><td>NA                                                                   </td></tr>\n",
       "\t<tr><td>22178534                                                             </td><td>2019-04-01 0:19                                                      </td><td>2019-04-01 0:23                                                      </td><td>3123                                                                 </td><td><span style=white-space:pre-wrap>257     </span>                     </td><td>420                                                                  </td><td><span style=white-space:pre-wrap>Ellis Ave &amp; 55th St      </span></td><td>426                                                                  </td><td><span style=white-space:pre-wrap>Ellis Ave &amp; 60th St      </span></td><td>Subscriber                                                           </td><td><span style=white-space:pre-wrap>Male  </span>                       </td><td>1999                                                                 </td><td>NA                                                                   </td><td>NA                                                                   </td><td>NA                                                                   </td><td>NA                                                                   </td><td>NA                                                                   </td><td>NA                                                                   </td></tr>\n",
       "</tbody>\n",
       "</table>\n"
      ],
      "text/latex": [
       "\\begin{tabular}{r|llllllllllllllllll}\n",
       " ride\\_id & started\\_at & ended\\_at & rideable\\_type & duration & start\\_station\\_id & start\\_station\\_name & end\\_station\\_id & end\\_station\\_name & member\\_casual & gender & birthday\\_year & tripduration & birthyear & start\\_lat & start\\_lng & end\\_lat & end\\_lng\\\\\n",
       "\\hline\n",
       "\t 22178529                    & 2019-04-01 0:02             & 2019-04-01 0:09             & 6251                        & 446                         &  81                         & Daley Center Plaza          &  56                         & Desplaines St \\& Kinzie St & Subscriber                  & Male                        & 1975                        & NA                          & NA                          & NA                          & NA                          & NA                          & NA                         \\\\\n",
       "\t 22178530                    & 2019-04-01 0:03             & 2019-04-01 0:20             & 6226                        & 1,048.00                    & 317                         & Wood St \\& Taylor St       &  59                         & Wabash Ave \\& Roosevelt Rd & Subscriber                  & Female                      & 1984                        & NA                          & NA                          & NA                          & NA                          & NA                          & NA                         \\\\\n",
       "\t 22178531                    & 2019-04-01 0:11             & 2019-04-01 0:15             & 5649                        & 252                         & 283                         & LaSalle St \\& Jackson Blvd & 174                         & Canal St \\& Madison St     & Subscriber                  & Male                        & 1990                        & NA                          & NA                          & NA                          & NA                          & NA                          & NA                         \\\\\n",
       "\t 22178532                    & 2019-04-01 0:13             & 2019-04-01 0:18             & 4151                        & 357                         &  26                         & McClurg Ct \\& Illinois St  & 133                         & Kingsbury St \\& Kinzie St  & Subscriber                  & Male                        & 1993                        & NA                          & NA                          & NA                          & NA                          & NA                          & NA                         \\\\\n",
       "\t 22178533                    & 2019-04-01 0:19             & 2019-04-01 0:36             & 3270                        & 1,007.00                    & 202                         & Halsted St \\& 18th St      & 129                         & Blue Island Ave \\& 18th St & Subscriber                  & Male                        & 1992                        & NA                          & NA                          & NA                          & NA                          & NA                          & NA                         \\\\\n",
       "\t 22178534                    & 2019-04-01 0:19             & 2019-04-01 0:23             & 3123                        & 257                         & 420                         & Ellis Ave \\& 55th St       & 426                         & Ellis Ave \\& 60th St       & Subscriber                  & Male                        & 1999                        & NA                          & NA                          & NA                          & NA                          & NA                          & NA                         \\\\\n",
       "\\end{tabular}\n"
      ],
      "text/markdown": [
       "\n",
       "| ride_id | started_at | ended_at | rideable_type | duration | start_station_id | start_station_name | end_station_id | end_station_name | member_casual | gender | birthday_year | tripduration | birthyear | start_lat | start_lng | end_lat | end_lng |\n",
       "|---|---|---|---|---|---|---|---|---|---|---|---|---|---|---|---|---|---|\n",
       "| 22178529                  | 2019-04-01 0:02           | 2019-04-01 0:09           | 6251                      | 446                       |  81                       | Daley Center Plaza        |  56                       | Desplaines St & Kinzie St | Subscriber                | Male                      | 1975                      | NA                        | NA                        | NA                        | NA                        | NA                        | NA                        |\n",
       "| 22178530                  | 2019-04-01 0:03           | 2019-04-01 0:20           | 6226                      | 1,048.00                  | 317                       | Wood St & Taylor St       |  59                       | Wabash Ave & Roosevelt Rd | Subscriber                | Female                    | 1984                      | NA                        | NA                        | NA                        | NA                        | NA                        | NA                        |\n",
       "| 22178531                  | 2019-04-01 0:11           | 2019-04-01 0:15           | 5649                      | 252                       | 283                       | LaSalle St & Jackson Blvd | 174                       | Canal St & Madison St     | Subscriber                | Male                      | 1990                      | NA                        | NA                        | NA                        | NA                        | NA                        | NA                        |\n",
       "| 22178532                  | 2019-04-01 0:13           | 2019-04-01 0:18           | 4151                      | 357                       |  26                       | McClurg Ct & Illinois St  | 133                       | Kingsbury St & Kinzie St  | Subscriber                | Male                      | 1993                      | NA                        | NA                        | NA                        | NA                        | NA                        | NA                        |\n",
       "| 22178533                  | 2019-04-01 0:19           | 2019-04-01 0:36           | 3270                      | 1,007.00                  | 202                       | Halsted St & 18th St      | 129                       | Blue Island Ave & 18th St | Subscriber                | Male                      | 1992                      | NA                        | NA                        | NA                        | NA                        | NA                        | NA                        |\n",
       "| 22178534                  | 2019-04-01 0:19           | 2019-04-01 0:23           | 3123                      | 257                       | 420                       | Ellis Ave & 55th St       | 426                       | Ellis Ave & 60th St       | Subscriber                | Male                      | 1999                      | NA                        | NA                        | NA                        | NA                        | NA                        | NA                        |\n",
       "\n"
      ],
      "text/plain": [
       "  ride_id  started_at      ended_at        rideable_type duration\n",
       "1 22178529 2019-04-01 0:02 2019-04-01 0:09 6251          446     \n",
       "2 22178530 2019-04-01 0:03 2019-04-01 0:20 6226          1,048.00\n",
       "3 22178531 2019-04-01 0:11 2019-04-01 0:15 5649          252     \n",
       "4 22178532 2019-04-01 0:13 2019-04-01 0:18 4151          357     \n",
       "5 22178533 2019-04-01 0:19 2019-04-01 0:36 3270          1,007.00\n",
       "6 22178534 2019-04-01 0:19 2019-04-01 0:23 3123          257     \n",
       "  start_station_id start_station_name        end_station_id\n",
       "1  81              Daley Center Plaza         56           \n",
       "2 317              Wood St & Taylor St        59           \n",
       "3 283              LaSalle St & Jackson Blvd 174           \n",
       "4  26              McClurg Ct & Illinois St  133           \n",
       "5 202              Halsted St & 18th St      129           \n",
       "6 420              Ellis Ave & 55th St       426           \n",
       "  end_station_name          member_casual gender birthday_year tripduration\n",
       "1 Desplaines St & Kinzie St Subscriber    Male   1975          NA          \n",
       "2 Wabash Ave & Roosevelt Rd Subscriber    Female 1984          NA          \n",
       "3 Canal St & Madison St     Subscriber    Male   1990          NA          \n",
       "4 Kingsbury St & Kinzie St  Subscriber    Male   1993          NA          \n",
       "5 Blue Island Ave & 18th St Subscriber    Male   1992          NA          \n",
       "6 Ellis Ave & 60th St       Subscriber    Male   1999          NA          \n",
       "  birthyear start_lat start_lng end_lat end_lng\n",
       "1 NA        NA        NA        NA      NA     \n",
       "2 NA        NA        NA        NA      NA     \n",
       "3 NA        NA        NA        NA      NA     \n",
       "4 NA        NA        NA        NA      NA     \n",
       "5 NA        NA        NA        NA      NA     \n",
       "6 NA        NA        NA        NA      NA     "
      ]
     },
     "metadata": {},
     "output_type": "display_data"
    }
   ],
   "source": [
    "head(all_trips)"
   ]
  },
  {
   "cell_type": "code",
   "execution_count": 13,
   "id": "77683cf6",
   "metadata": {},
   "outputs": [],
   "source": [
    "# Remove lat, long, birthyear, gender and duration fields\n",
    "\n",
    "all_trips <- all_trips  %>% \n",
    "            select(-c(start_lat,\n",
    "                      start_lng,\n",
    "                      end_lat,\n",
    "                      end_lng,\n",
    "                      birthyear,\n",
    "                      gender,\n",
    "                      duration,\n",
    "                      birthday_year,\n",
    "                      tripduration))"
   ]
  },
  {
   "cell_type": "code",
   "execution_count": 14,
   "id": "46342b3e",
   "metadata": {},
   "outputs": [
    {
     "data": {
      "text/html": [
       "<table>\n",
       "<thead><tr><th scope=col>ride_id</th><th scope=col>started_at</th><th scope=col>ended_at</th><th scope=col>rideable_type</th><th scope=col>start_station_id</th><th scope=col>start_station_name</th><th scope=col>end_station_id</th><th scope=col>end_station_name</th><th scope=col>member_casual</th></tr></thead>\n",
       "<tbody>\n",
       "\t<tr><td>22178529                                                         </td><td>2019-04-01 0:02                                                  </td><td>2019-04-01 0:09                                                  </td><td>6251                                                             </td><td> 81                                                              </td><td><span style=white-space:pre-wrap>Daley Center Plaza       </span></td><td> 56                                                              </td><td>Desplaines St &amp; Kinzie St                                    </td><td>Subscriber                                                       </td></tr>\n",
       "\t<tr><td>22178530                                                             </td><td>2019-04-01 0:03                                                      </td><td>2019-04-01 0:20                                                      </td><td>6226                                                                 </td><td>317                                                                  </td><td><span style=white-space:pre-wrap>Wood St &amp; Taylor St      </span></td><td> 59                                                                  </td><td>Wabash Ave &amp; Roosevelt Rd                                        </td><td>Subscriber                                                           </td></tr>\n",
       "\t<tr><td>22178531                                                             </td><td>2019-04-01 0:11                                                      </td><td>2019-04-01 0:15                                                      </td><td>5649                                                                 </td><td>283                                                                  </td><td>LaSalle St &amp; Jackson Blvd                                        </td><td>174                                                                  </td><td><span style=white-space:pre-wrap>Canal St &amp; Madison St    </span></td><td>Subscriber                                                           </td></tr>\n",
       "\t<tr><td>22178532                     </td><td>2019-04-01 0:13              </td><td>2019-04-01 0:18              </td><td>4151                         </td><td> 26                          </td><td>McClurg Ct &amp; Illinois St </td><td>133                          </td><td>Kingsbury St &amp; Kinzie St </td><td>Subscriber                   </td></tr>\n",
       "\t<tr><td>22178533                                                             </td><td>2019-04-01 0:19                                                      </td><td>2019-04-01 0:36                                                      </td><td>3270                                                                 </td><td>202                                                                  </td><td><span style=white-space:pre-wrap>Halsted St &amp; 18th St     </span></td><td>129                                                                  </td><td>Blue Island Ave &amp; 18th St                                        </td><td>Subscriber                                                           </td></tr>\n",
       "\t<tr><td>22178534                                                             </td><td>2019-04-01 0:19                                                      </td><td>2019-04-01 0:23                                                      </td><td>3123                                                                 </td><td>420                                                                  </td><td><span style=white-space:pre-wrap>Ellis Ave &amp; 55th St      </span></td><td>426                                                                  </td><td><span style=white-space:pre-wrap>Ellis Ave &amp; 60th St      </span></td><td>Subscriber                                                           </td></tr>\n",
       "</tbody>\n",
       "</table>\n"
      ],
      "text/latex": [
       "\\begin{tabular}{r|lllllllll}\n",
       " ride\\_id & started\\_at & ended\\_at & rideable\\_type & start\\_station\\_id & start\\_station\\_name & end\\_station\\_id & end\\_station\\_name & member\\_casual\\\\\n",
       "\\hline\n",
       "\t 22178529                    & 2019-04-01 0:02             & 2019-04-01 0:09             & 6251                        &  81                         & Daley Center Plaza          &  56                         & Desplaines St \\& Kinzie St & Subscriber                 \\\\\n",
       "\t 22178530                    & 2019-04-01 0:03             & 2019-04-01 0:20             & 6226                        & 317                         & Wood St \\& Taylor St       &  59                         & Wabash Ave \\& Roosevelt Rd & Subscriber                 \\\\\n",
       "\t 22178531                    & 2019-04-01 0:11             & 2019-04-01 0:15             & 5649                        & 283                         & LaSalle St \\& Jackson Blvd & 174                         & Canal St \\& Madison St     & Subscriber                 \\\\\n",
       "\t 22178532                    & 2019-04-01 0:13             & 2019-04-01 0:18             & 4151                        &  26                         & McClurg Ct \\& Illinois St  & 133                         & Kingsbury St \\& Kinzie St  & Subscriber                 \\\\\n",
       "\t 22178533                    & 2019-04-01 0:19             & 2019-04-01 0:36             & 3270                        & 202                         & Halsted St \\& 18th St      & 129                         & Blue Island Ave \\& 18th St & Subscriber                 \\\\\n",
       "\t 22178534                    & 2019-04-01 0:19             & 2019-04-01 0:23             & 3123                        & 420                         & Ellis Ave \\& 55th St       & 426                         & Ellis Ave \\& 60th St       & Subscriber                 \\\\\n",
       "\\end{tabular}\n"
      ],
      "text/markdown": [
       "\n",
       "| ride_id | started_at | ended_at | rideable_type | start_station_id | start_station_name | end_station_id | end_station_name | member_casual |\n",
       "|---|---|---|---|---|---|---|---|---|\n",
       "| 22178529                  | 2019-04-01 0:02           | 2019-04-01 0:09           | 6251                      |  81                       | Daley Center Plaza        |  56                       | Desplaines St & Kinzie St | Subscriber                |\n",
       "| 22178530                  | 2019-04-01 0:03           | 2019-04-01 0:20           | 6226                      | 317                       | Wood St & Taylor St       |  59                       | Wabash Ave & Roosevelt Rd | Subscriber                |\n",
       "| 22178531                  | 2019-04-01 0:11           | 2019-04-01 0:15           | 5649                      | 283                       | LaSalle St & Jackson Blvd | 174                       | Canal St & Madison St     | Subscriber                |\n",
       "| 22178532                  | 2019-04-01 0:13           | 2019-04-01 0:18           | 4151                      |  26                       | McClurg Ct & Illinois St  | 133                       | Kingsbury St & Kinzie St  | Subscriber                |\n",
       "| 22178533                  | 2019-04-01 0:19           | 2019-04-01 0:36           | 3270                      | 202                       | Halsted St & 18th St      | 129                       | Blue Island Ave & 18th St | Subscriber                |\n",
       "| 22178534                  | 2019-04-01 0:19           | 2019-04-01 0:23           | 3123                      | 420                       | Ellis Ave & 55th St       | 426                       | Ellis Ave & 60th St       | Subscriber                |\n",
       "\n"
      ],
      "text/plain": [
       "  ride_id  started_at      ended_at        rideable_type start_station_id\n",
       "1 22178529 2019-04-01 0:02 2019-04-01 0:09 6251           81             \n",
       "2 22178530 2019-04-01 0:03 2019-04-01 0:20 6226          317             \n",
       "3 22178531 2019-04-01 0:11 2019-04-01 0:15 5649          283             \n",
       "4 22178532 2019-04-01 0:13 2019-04-01 0:18 4151           26             \n",
       "5 22178533 2019-04-01 0:19 2019-04-01 0:36 3270          202             \n",
       "6 22178534 2019-04-01 0:19 2019-04-01 0:23 3123          420             \n",
       "  start_station_name        end_station_id end_station_name         \n",
       "1 Daley Center Plaza         56            Desplaines St & Kinzie St\n",
       "2 Wood St & Taylor St        59            Wabash Ave & Roosevelt Rd\n",
       "3 LaSalle St & Jackson Blvd 174            Canal St & Madison St    \n",
       "4 McClurg Ct & Illinois St  133            Kingsbury St & Kinzie St \n",
       "5 Halsted St & 18th St      129            Blue Island Ave & 18th St\n",
       "6 Ellis Ave & 55th St       426            Ellis Ave & 60th St      \n",
       "  member_casual\n",
       "1 Subscriber   \n",
       "2 Subscriber   \n",
       "3 Subscriber   \n",
       "4 Subscriber   \n",
       "5 Subscriber   \n",
       "6 Subscriber   "
      ]
     },
     "metadata": {},
     "output_type": "display_data"
    }
   ],
   "source": [
    "# Inspect that all relevant fields are included \n",
    "\n",
    "head(all_trips)"
   ]
  },
  {
   "cell_type": "markdown",
   "id": "b346827b",
   "metadata": {},
   "source": [
    "### Cleaning up data"
   ]
  },
  {
   "cell_type": "code",
   "execution_count": 15,
   "id": "74ec0e9a",
   "metadata": {},
   "outputs": [
    {
     "data": {
      "text/html": [
       "<ol class=list-inline>\n",
       "\t<li>'ride_id'</li>\n",
       "\t<li>'started_at'</li>\n",
       "\t<li>'ended_at'</li>\n",
       "\t<li>'rideable_type'</li>\n",
       "\t<li>'start_station_id'</li>\n",
       "\t<li>'start_station_name'</li>\n",
       "\t<li>'end_station_id'</li>\n",
       "\t<li>'end_station_name'</li>\n",
       "\t<li>'member_casual'</li>\n",
       "</ol>\n"
      ],
      "text/latex": [
       "\\begin{enumerate*}\n",
       "\\item 'ride\\_id'\n",
       "\\item 'started\\_at'\n",
       "\\item 'ended\\_at'\n",
       "\\item 'rideable\\_type'\n",
       "\\item 'start\\_station\\_id'\n",
       "\\item 'start\\_station\\_name'\n",
       "\\item 'end\\_station\\_id'\n",
       "\\item 'end\\_station\\_name'\n",
       "\\item 'member\\_casual'\n",
       "\\end{enumerate*}\n"
      ],
      "text/markdown": [
       "1. 'ride_id'\n",
       "2. 'started_at'\n",
       "3. 'ended_at'\n",
       "4. 'rideable_type'\n",
       "5. 'start_station_id'\n",
       "6. 'start_station_name'\n",
       "7. 'end_station_id'\n",
       "8. 'end_station_name'\n",
       "9. 'member_casual'\n",
       "\n",
       "\n"
      ],
      "text/plain": [
       "[1] \"ride_id\"            \"started_at\"         \"ended_at\"          \n",
       "[4] \"rideable_type\"      \"start_station_id\"   \"start_station_name\"\n",
       "[7] \"end_station_id\"     \"end_station_name\"   \"member_casual\"     "
      ]
     },
     "metadata": {},
     "output_type": "display_data"
    }
   ],
   "source": [
    "# Inspect the new table\n",
    "\n",
    "colnames(all_trips)"
   ]
  },
  {
   "cell_type": "code",
   "execution_count": 16,
   "id": "e5cd8221",
   "metadata": {},
   "outputs": [
    {
     "data": {
      "text/html": [
       "3820234"
      ],
      "text/latex": [
       "3820234"
      ],
      "text/markdown": [
       "3820234"
      ],
      "text/plain": [
       "[1] 3820234"
      ]
     },
     "metadata": {},
     "output_type": "display_data"
    }
   ],
   "source": [
    "# number of rows in the table\n",
    "nrow(all_trips)"
   ]
  },
  {
   "cell_type": "code",
   "execution_count": 17,
   "id": "3d967c9b",
   "metadata": {},
   "outputs": [
    {
     "data": {
      "text/html": [
       "<ol class=list-inline>\n",
       "\t<li>3820234</li>\n",
       "\t<li>9</li>\n",
       "</ol>\n"
      ],
      "text/latex": [
       "\\begin{enumerate*}\n",
       "\\item 3820234\n",
       "\\item 9\n",
       "\\end{enumerate*}\n"
      ],
      "text/markdown": [
       "1. 3820234\n",
       "2. 9\n",
       "\n",
       "\n"
      ],
      "text/plain": [
       "[1] 3820234       9"
      ]
     },
     "metadata": {},
     "output_type": "display_data"
    }
   ],
   "source": [
    "# dimensions of the dataframe\n",
    "dim(all_trips)"
   ]
  },
  {
   "cell_type": "code",
   "execution_count": 18,
   "id": "67d1447c",
   "metadata": {},
   "outputs": [
    {
     "data": {
      "text/plain": [
       "   ride_id           started_at          ended_at         rideable_type     \n",
       " Length:3820234     Length:3820234     Length:3820234     Length:3820234    \n",
       " Class :character   Class :character   Class :character   Class :character  \n",
       " Mode  :character   Mode  :character   Mode  :character   Mode  :character  \n",
       "                                                                            \n",
       "                                                                            \n",
       "                                                                            \n",
       "                                                                            \n",
       " start_station_id start_station_name end_station_id  end_station_name  \n",
       " Min.   :  1.0    Length:3820234     Min.   :  1.0   Length:3820234    \n",
       " 1st Qu.: 77.0    Class :character   1st Qu.: 77.0   Class :character  \n",
       " Median :174.0    Mode  :character   Median :174.0   Mode  :character  \n",
       " Mean   :202.9                       Mean   :203.7                     \n",
       " 3rd Qu.:290.0                       3rd Qu.:291.0                     \n",
       " Max.   :675.0                       Max.   :675.0                     \n",
       "                                     NA's   :1                         \n",
       " member_casual     \n",
       " Length:3820234    \n",
       " Class :character  \n",
       " Mode  :character  \n",
       "                   \n",
       "                   \n",
       "                   \n",
       "                   "
      ]
     },
     "metadata": {},
     "output_type": "display_data"
    }
   ],
   "source": [
    "# Statistical summary of data\n",
    "summary(all_trips)"
   ]
  },
  {
   "cell_type": "markdown",
   "id": "3914c400",
   "metadata": {},
   "source": [
    "In the member_casual column, we need to replace the verbiage 'Subscriber' with 'member' and 'customer' with 'casual'. 'Subscriber' and 'Customer' were the old labels for these titles. "
   ]
  },
  {
   "cell_type": "code",
   "execution_count": 19,
   "id": "41a990e3",
   "metadata": {},
   "outputs": [
    {
     "data": {
      "text/plain": [
       "\n",
       "    casual   Customer     member Subscriber \n",
       "     48480     833822     378407    2559525 "
      ]
     },
     "metadata": {},
     "output_type": "display_data"
    }
   ],
   "source": [
    "# See how many observations fall under each category\n",
    "table(all_trips$member_casual)"
   ]
  },
  {
   "cell_type": "code",
   "execution_count": 20,
   "id": "9c4f0db3",
   "metadata": {},
   "outputs": [],
   "source": [
    "# Reassign the labels\n",
    "\n",
    "all_trips <- all_trips  %>% \n",
    "            mutate(member_casual = recode(member_casual\n",
    "                                         , \"Subscriber\" = \"member\"\n",
    "                                         , \"Customer\" = \"casual\"))"
   ]
  },
  {
   "cell_type": "code",
   "execution_count": 21,
   "id": "8309dfec",
   "metadata": {},
   "outputs": [
    {
     "data": {
      "text/plain": [
       "\n",
       " casual  member \n",
       " 882302 2937932 "
      ]
     },
     "metadata": {},
     "output_type": "display_data"
    }
   ],
   "source": [
    "# Check to ensure reassingnment\n",
    "table(all_trips$member_casual)"
   ]
  },
  {
   "cell_type": "markdown",
   "id": "c33392f4",
   "metadata": {},
   "source": [
    "Next, we will add columns that list the date, month, day and year of each ride, which will allow additional aggregation of the data."
   ]
  },
  {
   "cell_type": "code",
   "execution_count": 22,
   "id": "5aed7aac",
   "metadata": {},
   "outputs": [],
   "source": [
    "# Adding date\n",
    "\n",
    "all_trips$date <- as.Date(all_trips$started_at)\n",
    "all_trips$month <- format(as.Date(all_trips$date), \"%m\")\n",
    "all_trips$day <- format(as.Date(all_trips$date), \"%d\")\n",
    "all_trips$year <- format(as.Date(all_trips$date), \"%Y\")\n",
    "all_trips$day_of_week <- format(as.Date(all_trips$date),\"%A\")"
   ]
  },
  {
   "cell_type": "code",
   "execution_count": 23,
   "id": "b17fb393",
   "metadata": {},
   "outputs": [],
   "source": [
    "# Adding ride length column to dataframe\n",
    "\n",
    "all_trips$ride_length <- difftime(all_trips$ended_at, all_trips$started_at)"
   ]
  },
  {
   "cell_type": "code",
   "execution_count": 24,
   "id": "a61de88b",
   "metadata": {},
   "outputs": [
    {
     "name": "stdout",
     "output_type": "stream",
     "text": [
      "'data.frame':\t3820234 obs. of  15 variables:\n",
      " $ ride_id           : chr  \"22178529\" \"22178530\" \"22178531\" \"22178532\" ...\n",
      " $ started_at        : chr  \"2019-04-01 0:02\" \"2019-04-01 0:03\" \"2019-04-01 0:11\" \"2019-04-01 0:13\" ...\n",
      " $ ended_at          : chr  \"2019-04-01 0:09\" \"2019-04-01 0:20\" \"2019-04-01 0:15\" \"2019-04-01 0:18\" ...\n",
      " $ rideable_type     : chr  \"6251\" \"6226\" \"5649\" \"4151\" ...\n",
      " $ start_station_id  : int  81 317 283 26 202 420 503 260 211 211 ...\n",
      " $ start_station_name: chr  \"Daley Center Plaza\" \"Wood St & Taylor St\" \"LaSalle St & Jackson Blvd\" \"McClurg Ct & Illinois St\" ...\n",
      " $ end_station_id    : int  56 59 174 133 129 426 500 499 211 211 ...\n",
      " $ end_station_name  : chr  \"Desplaines St & Kinzie St\" \"Wabash Ave & Roosevelt Rd\" \"Canal St & Madison St\" \"Kingsbury St & Kinzie St\" ...\n",
      " $ member_casual     : chr  \"member\" \"member\" \"member\" \"member\" ...\n",
      " $ date              : Date, format: \"2019-04-01\" \"2019-04-01\" ...\n",
      " $ month             : chr  \"04\" \"04\" \"04\" \"04\" ...\n",
      " $ day               : chr  \"01\" \"01\" \"01\" \"01\" ...\n",
      " $ year              : chr  \"2019\" \"2019\" \"2019\" \"2019\" ...\n",
      " $ day_of_week       : chr  \"Monday\" \"Monday\" \"Monday\" \"Monday\" ...\n",
      " $ ride_length       : 'difftime' num  420 1020 240 300 ...\n",
      "  ..- attr(*, \"units\")= chr \"secs\"\n"
     ]
    }
   ],
   "source": [
    "# Inspect the structure of the column\n",
    "\n",
    "str(all_trips)"
   ]
  },
  {
   "cell_type": "code",
   "execution_count": 25,
   "id": "e34a543a",
   "metadata": {},
   "outputs": [
    {
     "data": {
      "text/html": [
       "FALSE"
      ],
      "text/latex": [
       "FALSE"
      ],
      "text/markdown": [
       "FALSE"
      ],
      "text/plain": [
       "[1] FALSE"
      ]
     },
     "metadata": {},
     "output_type": "display_data"
    },
    {
     "data": {
      "text/html": [
       "TRUE"
      ],
      "text/latex": [
       "TRUE"
      ],
      "text/markdown": [
       "TRUE"
      ],
      "text/plain": [
       "[1] TRUE"
      ]
     },
     "metadata": {},
     "output_type": "display_data"
    }
   ],
   "source": [
    "# Convert ride_length from factor to numeric\n",
    "\n",
    "is.factor(all_trips$ride_length)\n",
    "all_trips$ride_length <- as.numeric(as.character(all_trips$ride_length))\n",
    "is.numeric(all_trips$ride_length)"
   ]
  },
  {
   "cell_type": "code",
   "execution_count": 26,
   "id": "c661433a",
   "metadata": {},
   "outputs": [],
   "source": [
    "# Removing 'bad data' as some entries were taken out of service or ride length was negative\n",
    "\n",
    "all_trips_v2 <- all_trips[!(all_trips$start_station_name == \"HQ QR\" | all_trips$ride_length < 0),]"
   ]
  },
  {
   "cell_type": "code",
   "execution_count": 27,
   "id": "a693fde2",
   "metadata": {},
   "outputs": [
    {
     "data": {
      "text/html": [
       "<table>\n",
       "<thead><tr><th></th><th scope=col>ride_id</th><th scope=col>started_at</th><th scope=col>ended_at</th><th scope=col>rideable_type</th><th scope=col>start_station_id</th><th scope=col>start_station_name</th><th scope=col>end_station_id</th><th scope=col>end_station_name</th><th scope=col>member_casual</th><th scope=col>date</th><th scope=col>month</th><th scope=col>day</th><th scope=col>year</th><th scope=col>day_of_week</th><th scope=col>ride_length</th></tr></thead>\n",
       "<tbody>\n",
       "\t<tr><th scope=row>3820227</th><td>4361A2348584C3E4                   </td><td>2020-03-25 17:10:10                </td><td>2020-03-25 17:47:34                </td><td>docked_bike                        </td><td>313                                </td><td>Lakeview Ave &amp; Fullerton Pkwy  </td><td>459                                </td><td>Lakefront Trail &amp; Bryn Mawr Ave</td><td>member                             </td><td>2020-03-25                         </td><td>03                                 </td><td>25                                 </td><td>2020                               </td><td>Wednesday                          </td><td>2220                               </td></tr>\n",
       "\t<tr><th scope=row>3820228</th><td>005D3BC2A3B33DDA                                                           </td><td>2020-03-12 07:32:25                                                        </td><td>2020-03-12 07:38:44                                                        </td><td>docked_bike                                                                </td><td> 91                                                                        </td><td>Clinton St &amp; Washington Blvd                                           </td><td> 47                                                                        </td><td><span style=white-space:pre-wrap>State St &amp; Kinzie St           </span></td><td>member                                                                     </td><td>2020-03-12                                                                 </td><td>03                                                                         </td><td>12                                                                         </td><td>2020                                                                       </td><td>Thursday                                                                   </td><td> 360                                                                       </td></tr>\n",
       "\t<tr><th scope=row>3820231</th><td>82B10FA3994BC66A                                                           </td><td>2020-03-07 15:25:55                                                        </td><td>2020-03-07 16:14:03                                                        </td><td>docked_bike                                                                </td><td>161                                                                        </td><td><span style=white-space:pre-wrap>Rush St &amp; Superior St        </span>  </td><td>240                                                                        </td><td><span style=white-space:pre-wrap>Sheridan Rd &amp; Irving Park Rd   </span></td><td>member                                                                     </td><td>2020-03-07                                                                 </td><td>03                                                                         </td><td>07                                                                         </td><td>2020                                                                       </td><td>Saturday                                                                   </td><td>2940                                                                       </td></tr>\n",
       "\t<tr><th scope=row>3820232</th><td>AA0D5AAA0B59C8AA                                                           </td><td>2020-03-01 13:12:38                                                        </td><td>2020-03-01 13:38:29                                                        </td><td>docked_bike                                                                </td><td>141                                                                        </td><td><span style=white-space:pre-wrap>Clark St &amp; Lincoln Ave       </span>  </td><td>210                                                                        </td><td><span style=white-space:pre-wrap>Ashland Ave &amp; Division St      </span></td><td>casual                                                                     </td><td>2020-03-01                                                                 </td><td>03                                                                         </td><td>01                                                                         </td><td>2020                                                                       </td><td><span style=white-space:pre-wrap>Sunday   </span>                          </td><td>1560                                                                       </td></tr>\n",
       "\t<tr><th scope=row>3820233</th><td>3296360A7BC20FB8                                                           </td><td>2020-03-07 18:02:45                                                        </td><td>2020-03-07 18:13:18                                                        </td><td>docked_bike                                                                </td><td>672                                                                        </td><td><span style=white-space:pre-wrap>Franklin St &amp; Illinois St    </span>  </td><td>264                                                                        </td><td><span style=white-space:pre-wrap>Stetson Ave &amp; South Water St   </span></td><td>member                                                                     </td><td>2020-03-07                                                                 </td><td>03                                                                         </td><td>07                                                                         </td><td>2020                                                                       </td><td>Saturday                                                                   </td><td> 660                                                                       </td></tr>\n",
       "\t<tr><th scope=row>3820234</th><td>064EC7698E4FF9B3                                                           </td><td>2020-03-08 13:03:57                                                        </td><td>2020-03-08 13:32:27                                                        </td><td>docked_bike                                                                </td><td>110                                                                        </td><td><span style=white-space:pre-wrap>Dearborn St &amp; Erie St        </span>  </td><td> 85                                                                        </td><td><span style=white-space:pre-wrap>Michigan Ave &amp; Oak St          </span></td><td>casual                                                                     </td><td>2020-03-08                                                                 </td><td>03                                                                         </td><td>08                                                                         </td><td>2020                                                                       </td><td><span style=white-space:pre-wrap>Sunday   </span>                          </td><td>1740                                                                       </td></tr>\n",
       "</tbody>\n",
       "</table>\n"
      ],
      "text/latex": [
       "\\begin{tabular}{r|lllllllllllllll}\n",
       "  & ride\\_id & started\\_at & ended\\_at & rideable\\_type & start\\_station\\_id & start\\_station\\_name & end\\_station\\_id & end\\_station\\_name & member\\_casual & date & month & day & year & day\\_of\\_week & ride\\_length\\\\\n",
       "\\hline\n",
       "\t3820227 & 4361A2348584C3E4                  & 2020-03-25 17:10:10               & 2020-03-25 17:47:34               & docked\\_bike                     & 313                               & Lakeview Ave \\& Fullerton Pkwy   & 459                               & Lakefront Trail \\& Bryn Mawr Ave & member                            & 2020-03-25                        & 03                                & 25                                & 2020                              & Wednesday                         & 2220                             \\\\\n",
       "\t3820228 & 005D3BC2A3B33DDA                  & 2020-03-12 07:32:25               & 2020-03-12 07:38:44               & docked\\_bike                     &  91                               & Clinton St \\& Washington Blvd    &  47                               & State St \\& Kinzie St            & member                            & 2020-03-12                        & 03                                & 12                                & 2020                              & Thursday                          &  360                             \\\\\n",
       "\t3820231 & 82B10FA3994BC66A                  & 2020-03-07 15:25:55               & 2020-03-07 16:14:03               & docked\\_bike                     & 161                               & Rush St \\& Superior St           & 240                               & Sheridan Rd \\& Irving Park Rd    & member                            & 2020-03-07                        & 03                                & 07                                & 2020                              & Saturday                          & 2940                             \\\\\n",
       "\t3820232 & AA0D5AAA0B59C8AA                  & 2020-03-01 13:12:38               & 2020-03-01 13:38:29               & docked\\_bike                     & 141                               & Clark St \\& Lincoln Ave          & 210                               & Ashland Ave \\& Division St       & casual                            & 2020-03-01                        & 03                                & 01                                & 2020                              & Sunday                            & 1560                             \\\\\n",
       "\t3820233 & 3296360A7BC20FB8                  & 2020-03-07 18:02:45               & 2020-03-07 18:13:18               & docked\\_bike                     & 672                               & Franklin St \\& Illinois St       & 264                               & Stetson Ave \\& South Water St    & member                            & 2020-03-07                        & 03                                & 07                                & 2020                              & Saturday                          &  660                             \\\\\n",
       "\t3820234 & 064EC7698E4FF9B3                  & 2020-03-08 13:03:57               & 2020-03-08 13:32:27               & docked\\_bike                     & 110                               & Dearborn St \\& Erie St           &  85                               & Michigan Ave \\& Oak St           & casual                            & 2020-03-08                        & 03                                & 08                                & 2020                              & Sunday                            & 1740                             \\\\\n",
       "\\end{tabular}\n"
      ],
      "text/markdown": [
       "\n",
       "| <!--/--> | ride_id | started_at | ended_at | rideable_type | start_station_id | start_station_name | end_station_id | end_station_name | member_casual | date | month | day | year | day_of_week | ride_length |\n",
       "|---|---|---|---|---|---|---|---|---|---|---|---|---|---|---|---|\n",
       "| 3820227 | 4361A2348584C3E4                | 2020-03-25 17:10:10             | 2020-03-25 17:47:34             | docked_bike                     | 313                             | Lakeview Ave & Fullerton Pkwy   | 459                             | Lakefront Trail & Bryn Mawr Ave | member                          | 2020-03-25                      | 03                              | 25                              | 2020                            | Wednesday                       | 2220                            |\n",
       "| 3820228 | 005D3BC2A3B33DDA                | 2020-03-12 07:32:25             | 2020-03-12 07:38:44             | docked_bike                     |  91                             | Clinton St & Washington Blvd    |  47                             | State St & Kinzie St            | member                          | 2020-03-12                      | 03                              | 12                              | 2020                            | Thursday                        |  360                            |\n",
       "| 3820231 | 82B10FA3994BC66A                | 2020-03-07 15:25:55             | 2020-03-07 16:14:03             | docked_bike                     | 161                             | Rush St & Superior St           | 240                             | Sheridan Rd & Irving Park Rd    | member                          | 2020-03-07                      | 03                              | 07                              | 2020                            | Saturday                        | 2940                            |\n",
       "| 3820232 | AA0D5AAA0B59C8AA                | 2020-03-01 13:12:38             | 2020-03-01 13:38:29             | docked_bike                     | 141                             | Clark St & Lincoln Ave          | 210                             | Ashland Ave & Division St       | casual                          | 2020-03-01                      | 03                              | 01                              | 2020                            | Sunday                          | 1560                            |\n",
       "| 3820233 | 3296360A7BC20FB8                | 2020-03-07 18:02:45             | 2020-03-07 18:13:18             | docked_bike                     | 672                             | Franklin St & Illinois St       | 264                             | Stetson Ave & South Water St    | member                          | 2020-03-07                      | 03                              | 07                              | 2020                            | Saturday                        |  660                            |\n",
       "| 3820234 | 064EC7698E4FF9B3                | 2020-03-08 13:03:57             | 2020-03-08 13:32:27             | docked_bike                     | 110                             | Dearborn St & Erie St           |  85                             | Michigan Ave & Oak St           | casual                          | 2020-03-08                      | 03                              | 08                              | 2020                            | Sunday                          | 1740                            |\n",
       "\n"
      ],
      "text/plain": [
       "        ride_id          started_at          ended_at            rideable_type\n",
       "3820227 4361A2348584C3E4 2020-03-25 17:10:10 2020-03-25 17:47:34 docked_bike  \n",
       "3820228 005D3BC2A3B33DDA 2020-03-12 07:32:25 2020-03-12 07:38:44 docked_bike  \n",
       "3820231 82B10FA3994BC66A 2020-03-07 15:25:55 2020-03-07 16:14:03 docked_bike  \n",
       "3820232 AA0D5AAA0B59C8AA 2020-03-01 13:12:38 2020-03-01 13:38:29 docked_bike  \n",
       "3820233 3296360A7BC20FB8 2020-03-07 18:02:45 2020-03-07 18:13:18 docked_bike  \n",
       "3820234 064EC7698E4FF9B3 2020-03-08 13:03:57 2020-03-08 13:32:27 docked_bike  \n",
       "        start_station_id start_station_name            end_station_id\n",
       "3820227 313              Lakeview Ave & Fullerton Pkwy 459           \n",
       "3820228  91              Clinton St & Washington Blvd   47           \n",
       "3820231 161              Rush St & Superior St         240           \n",
       "3820232 141              Clark St & Lincoln Ave        210           \n",
       "3820233 672              Franklin St & Illinois St     264           \n",
       "3820234 110              Dearborn St & Erie St          85           \n",
       "        end_station_name                member_casual date       month day year\n",
       "3820227 Lakefront Trail & Bryn Mawr Ave member        2020-03-25 03    25  2020\n",
       "3820228 State St & Kinzie St            member        2020-03-12 03    12  2020\n",
       "3820231 Sheridan Rd & Irving Park Rd    member        2020-03-07 03    07  2020\n",
       "3820232 Ashland Ave & Division St       casual        2020-03-01 03    01  2020\n",
       "3820233 Stetson Ave & South Water St    member        2020-03-07 03    07  2020\n",
       "3820234 Michigan Ave & Oak St           casual        2020-03-08 03    08  2020\n",
       "        day_of_week ride_length\n",
       "3820227 Wednesday   2220       \n",
       "3820228 Thursday     360       \n",
       "3820231 Saturday    2940       \n",
       "3820232 Sunday      1560       \n",
       "3820233 Saturday     660       \n",
       "3820234 Sunday      1740       "
      ]
     },
     "metadata": {},
     "output_type": "display_data"
    }
   ],
   "source": [
    "tail(all_trips_v2)"
   ]
  },
  {
   "cell_type": "markdown",
   "id": "fc163b87",
   "metadata": {},
   "source": [
    "### Conducting Descriptive Analysis"
   ]
  },
  {
   "cell_type": "code",
   "execution_count": 28,
   "id": "745cc659",
   "metadata": {},
   "outputs": [
    {
     "data": {
      "text/html": [
       "1476.81948740899"
      ],
      "text/latex": [
       "1476.81948740899"
      ],
      "text/markdown": [
       "1476.81948740899"
      ],
      "text/plain": [
       "[1] 1476.819"
      ]
     },
     "metadata": {},
     "output_type": "display_data"
    },
    {
     "data": {
      "text/html": [
       "720"
      ],
      "text/latex": [
       "720"
      ],
      "text/markdown": [
       "720"
      ],
      "text/plain": [
       "[1] 720"
      ]
     },
     "metadata": {},
     "output_type": "display_data"
    },
    {
     "data": {
      "text/html": [
       "9383400"
      ],
      "text/latex": [
       "9383400"
      ],
      "text/markdown": [
       "9383400"
      ],
      "text/plain": [
       "[1] 9383400"
      ]
     },
     "metadata": {},
     "output_type": "display_data"
    },
    {
     "data": {
      "text/html": [
       "0"
      ],
      "text/latex": [
       "0"
      ],
      "text/markdown": [
       "0"
      ],
      "text/plain": [
       "[1] 0"
      ]
     },
     "metadata": {},
     "output_type": "display_data"
    }
   ],
   "source": [
    "# Descriptive analysis on ride_length \n",
    "\n",
    "mean(all_trips_v2$ride_length)\n",
    "median(all_trips_v2$ride_length)\n",
    "max(all_trips_v2$ride_length)\n",
    "min(all_trips_v2$ride_length)"
   ]
  },
  {
   "cell_type": "code",
   "execution_count": 29,
   "id": "d3f18af4",
   "metadata": {},
   "outputs": [
    {
     "data": {
      "text/plain": [
       "   Min. 1st Qu.  Median    Mean 3rd Qu.    Max. \n",
       "      0     420     720    1477    1260 9383400 "
      ]
     },
     "metadata": {},
     "output_type": "display_data"
    }
   ],
   "source": [
    "summary(all_trips_v2$ride_length)"
   ]
  },
  {
   "cell_type": "code",
   "execution_count": 30,
   "id": "80d13e9d",
   "metadata": {},
   "outputs": [
    {
     "data": {
      "text/html": [
       "<table>\n",
       "<thead><tr><th scope=col>all_trips_v2$member_casual</th><th scope=col>all_trips_v2$ride_length</th></tr></thead>\n",
       "<tbody>\n",
       "\t<tr><td>casual   </td><td>3575.3985</td></tr>\n",
       "\t<tr><td>member   </td><td> 849.2796</td></tr>\n",
       "</tbody>\n",
       "</table>\n"
      ],
      "text/latex": [
       "\\begin{tabular}{r|ll}\n",
       " all\\_trips\\_v2\\$member\\_casual & all\\_trips\\_v2\\$ride\\_length\\\\\n",
       "\\hline\n",
       "\t casual    & 3575.3985\\\\\n",
       "\t member    &  849.2796\\\\\n",
       "\\end{tabular}\n"
      ],
      "text/markdown": [
       "\n",
       "| all_trips_v2$member_casual | all_trips_v2$ride_length |\n",
       "|---|---|\n",
       "| casual    | 3575.3985 |\n",
       "| member    |  849.2796 |\n",
       "\n"
      ],
      "text/plain": [
       "  all_trips_v2$member_casual all_trips_v2$ride_length\n",
       "1 casual                     3575.3985               \n",
       "2 member                      849.2796               "
      ]
     },
     "metadata": {},
     "output_type": "display_data"
    },
    {
     "data": {
      "text/html": [
       "<table>\n",
       "<thead><tr><th scope=col>all_trips_v2$member_casual</th><th scope=col>all_trips_v2$ride_length</th></tr></thead>\n",
       "<tbody>\n",
       "\t<tr><td>casual</td><td>1560  </td></tr>\n",
       "\t<tr><td>member</td><td> 600  </td></tr>\n",
       "</tbody>\n",
       "</table>\n"
      ],
      "text/latex": [
       "\\begin{tabular}{r|ll}\n",
       " all\\_trips\\_v2\\$member\\_casual & all\\_trips\\_v2\\$ride\\_length\\\\\n",
       "\\hline\n",
       "\t casual & 1560  \\\\\n",
       "\t member &  600  \\\\\n",
       "\\end{tabular}\n"
      ],
      "text/markdown": [
       "\n",
       "| all_trips_v2$member_casual | all_trips_v2$ride_length |\n",
       "|---|---|\n",
       "| casual | 1560   |\n",
       "| member |  600   |\n",
       "\n"
      ],
      "text/plain": [
       "  all_trips_v2$member_casual all_trips_v2$ride_length\n",
       "1 casual                     1560                    \n",
       "2 member                      600                    "
      ]
     },
     "metadata": {},
     "output_type": "display_data"
    },
    {
     "data": {
      "text/html": [
       "<table>\n",
       "<thead><tr><th scope=col>all_trips_v2$member_casual</th><th scope=col>all_trips_v2$ride_length</th></tr></thead>\n",
       "<tbody>\n",
       "\t<tr><td>casual </td><td>9383400</td></tr>\n",
       "\t<tr><td>member </td><td>9056640</td></tr>\n",
       "</tbody>\n",
       "</table>\n"
      ],
      "text/latex": [
       "\\begin{tabular}{r|ll}\n",
       " all\\_trips\\_v2\\$member\\_casual & all\\_trips\\_v2\\$ride\\_length\\\\\n",
       "\\hline\n",
       "\t casual  & 9383400\\\\\n",
       "\t member  & 9056640\\\\\n",
       "\\end{tabular}\n"
      ],
      "text/markdown": [
       "\n",
       "| all_trips_v2$member_casual | all_trips_v2$ride_length |\n",
       "|---|---|\n",
       "| casual  | 9383400 |\n",
       "| member  | 9056640 |\n",
       "\n"
      ],
      "text/plain": [
       "  all_trips_v2$member_casual all_trips_v2$ride_length\n",
       "1 casual                     9383400                 \n",
       "2 member                     9056640                 "
      ]
     },
     "metadata": {},
     "output_type": "display_data"
    },
    {
     "data": {
      "text/html": [
       "<table>\n",
       "<thead><tr><th scope=col>all_trips_v2$member_casual</th><th scope=col>all_trips_v2$ride_length</th></tr></thead>\n",
       "<tbody>\n",
       "\t<tr><td>casual</td><td>0     </td></tr>\n",
       "\t<tr><td>member</td><td>0     </td></tr>\n",
       "</tbody>\n",
       "</table>\n"
      ],
      "text/latex": [
       "\\begin{tabular}{r|ll}\n",
       " all\\_trips\\_v2\\$member\\_casual & all\\_trips\\_v2\\$ride\\_length\\\\\n",
       "\\hline\n",
       "\t casual & 0     \\\\\n",
       "\t member & 0     \\\\\n",
       "\\end{tabular}\n"
      ],
      "text/markdown": [
       "\n",
       "| all_trips_v2$member_casual | all_trips_v2$ride_length |\n",
       "|---|---|\n",
       "| casual | 0      |\n",
       "| member | 0      |\n",
       "\n"
      ],
      "text/plain": [
       "  all_trips_v2$member_casual all_trips_v2$ride_length\n",
       "1 casual                     0                       \n",
       "2 member                     0                       "
      ]
     },
     "metadata": {},
     "output_type": "display_data"
    }
   ],
   "source": [
    "# Compare members and casual riders\n",
    "\n",
    "aggregate(all_trips_v2$ride_length ~ all_trips_v2$member_casual, FUN = mean)\n",
    "aggregate(all_trips_v2$ride_length ~ all_trips_v2$member_casual, FUN = median)\n",
    "aggregate(all_trips_v2$ride_length ~ all_trips_v2$member_casual, FUN = max)\n",
    "aggregate(all_trips_v2$ride_length ~ all_trips_v2$member_casual, FUN = min)"
   ]
  },
  {
   "cell_type": "code",
   "execution_count": 31,
   "id": "2159879c",
   "metadata": {},
   "outputs": [
    {
     "data": {
      "text/html": [
       "<table>\n",
       "<thead><tr><th scope=col>all_trips_v2$member_casual</th><th scope=col>all_trips_v2$day_of_week</th><th scope=col>all_trips_v2$ride_length</th></tr></thead>\n",
       "<tbody>\n",
       "\t<tr><td>casual   </td><td>Friday   </td><td>3822.7908</td></tr>\n",
       "\t<tr><td>member   </td><td>Friday   </td><td> 824.4129</td></tr>\n",
       "\t<tr><td>casual   </td><td>Monday   </td><td>3372.3583</td></tr>\n",
       "\t<tr><td>member   </td><td>Monday   </td><td> 842.5924</td></tr>\n",
       "\t<tr><td>casual   </td><td>Saturday </td><td>3362.6271</td></tr>\n",
       "\t<tr><td>member   </td><td>Saturday </td><td> 968.1321</td></tr>\n",
       "\t<tr><td>casual   </td><td>Sunday   </td><td>3608.0002</td></tr>\n",
       "\t<tr><td>member   </td><td>Sunday   </td><td> 919.1142</td></tr>\n",
       "\t<tr><td>casual   </td><td>Thursday </td><td>3706.0930</td></tr>\n",
       "\t<tr><td>member   </td><td>Thursday </td><td> 822.8557</td></tr>\n",
       "\t<tr><td>casual   </td><td>Tuesday  </td><td>3596.3971</td></tr>\n",
       "\t<tr><td>member   </td><td>Tuesday  </td><td> 826.1502</td></tr>\n",
       "\t<tr><td>casual   </td><td>Wednesday</td><td>3719.0577</td></tr>\n",
       "\t<tr><td>member   </td><td>Wednesday</td><td> 823.9655</td></tr>\n",
       "</tbody>\n",
       "</table>\n"
      ],
      "text/latex": [
       "\\begin{tabular}{r|lll}\n",
       " all\\_trips\\_v2\\$member\\_casual & all\\_trips\\_v2\\$day\\_of\\_week & all\\_trips\\_v2\\$ride\\_length\\\\\n",
       "\\hline\n",
       "\t casual    & Friday    & 3822.7908\\\\\n",
       "\t member    & Friday    &  824.4129\\\\\n",
       "\t casual    & Monday    & 3372.3583\\\\\n",
       "\t member    & Monday    &  842.5924\\\\\n",
       "\t casual    & Saturday  & 3362.6271\\\\\n",
       "\t member    & Saturday  &  968.1321\\\\\n",
       "\t casual    & Sunday    & 3608.0002\\\\\n",
       "\t member    & Sunday    &  919.1142\\\\\n",
       "\t casual    & Thursday  & 3706.0930\\\\\n",
       "\t member    & Thursday  &  822.8557\\\\\n",
       "\t casual    & Tuesday   & 3596.3971\\\\\n",
       "\t member    & Tuesday   &  826.1502\\\\\n",
       "\t casual    & Wednesday & 3719.0577\\\\\n",
       "\t member    & Wednesday &  823.9655\\\\\n",
       "\\end{tabular}\n"
      ],
      "text/markdown": [
       "\n",
       "| all_trips_v2$member_casual | all_trips_v2$day_of_week | all_trips_v2$ride_length |\n",
       "|---|---|---|\n",
       "| casual    | Friday    | 3822.7908 |\n",
       "| member    | Friday    |  824.4129 |\n",
       "| casual    | Monday    | 3372.3583 |\n",
       "| member    | Monday    |  842.5924 |\n",
       "| casual    | Saturday  | 3362.6271 |\n",
       "| member    | Saturday  |  968.1321 |\n",
       "| casual    | Sunday    | 3608.0002 |\n",
       "| member    | Sunday    |  919.1142 |\n",
       "| casual    | Thursday  | 3706.0930 |\n",
       "| member    | Thursday  |  822.8557 |\n",
       "| casual    | Tuesday   | 3596.3971 |\n",
       "| member    | Tuesday   |  826.1502 |\n",
       "| casual    | Wednesday | 3719.0577 |\n",
       "| member    | Wednesday |  823.9655 |\n",
       "\n"
      ],
      "text/plain": [
       "   all_trips_v2$member_casual all_trips_v2$day_of_week all_trips_v2$ride_length\n",
       "1  casual                     Friday                   3822.7908               \n",
       "2  member                     Friday                    824.4129               \n",
       "3  casual                     Monday                   3372.3583               \n",
       "4  member                     Monday                    842.5924               \n",
       "5  casual                     Saturday                 3362.6271               \n",
       "6  member                     Saturday                  968.1321               \n",
       "7  casual                     Sunday                   3608.0002               \n",
       "8  member                     Sunday                    919.1142               \n",
       "9  casual                     Thursday                 3706.0930               \n",
       "10 member                     Thursday                  822.8557               \n",
       "11 casual                     Tuesday                  3596.3971               \n",
       "12 member                     Tuesday                   826.1502               \n",
       "13 casual                     Wednesday                3719.0577               \n",
       "14 member                     Wednesday                 823.9655               "
      ]
     },
     "metadata": {},
     "output_type": "display_data"
    }
   ],
   "source": [
    "# See average ride time by each day for members vs casual users\n",
    "\n",
    "aggregate(all_trips_v2$ride_length ~ all_trips_v2$member_casual + all_trips_v2$day_of_week, FUN = mean)"
   ]
  },
  {
   "cell_type": "code",
   "execution_count": 32,
   "id": "acdc749c",
   "metadata": {},
   "outputs": [],
   "source": [
    "# Order the days of the week\n",
    "\n",
    "all_trips_v2$day_of_week <- ordered(all_trips_v2$day_of_week, levels = c(\"Sunday\",\"Monday\",\n",
    "                                                                         \"Tuesday\",\"Wednesday\",\n",
    "                                                                         \"Thursday\",\"Friday\",\n",
    "                                                                         \"Saturday\"))"
   ]
  },
  {
   "cell_type": "code",
   "execution_count": 33,
   "id": "321d83b3",
   "metadata": {},
   "outputs": [
    {
     "data": {
      "text/html": [
       "<table>\n",
       "<thead><tr><th scope=col>member_casual</th><th scope=col>weekday</th><th scope=col>number_of_rides</th><th scope=col>average_duration</th></tr></thead>\n",
       "<tbody>\n",
       "\t<tr><td>casual   </td><td>Sun      </td><td>174768   </td><td>3608.0002</td></tr>\n",
       "\t<tr><td>casual   </td><td>Mon      </td><td>103296   </td><td>3372.3583</td></tr>\n",
       "\t<tr><td>casual   </td><td>Tue      </td><td> 90510   </td><td>3596.3971</td></tr>\n",
       "\t<tr><td>casual   </td><td>Wed      </td><td> 92457   </td><td>3719.0577</td></tr>\n",
       "\t<tr><td>casual   </td><td>Thu      </td><td>101142   </td><td>3706.0930</td></tr>\n",
       "\t<tr><td>casual   </td><td>Fri      </td><td>117753   </td><td>3822.7908</td></tr>\n",
       "\t<tr><td>casual   </td><td>Sat      </td><td>198604   </td><td>3362.6271</td></tr>\n",
       "\t<tr><td>member   </td><td>Sun      </td><td>260608   </td><td> 919.1142</td></tr>\n",
       "\t<tr><td>member   </td><td>Mon      </td><td>472196   </td><td> 842.5924</td></tr>\n",
       "\t<tr><td>member   </td><td>Tue      </td><td>508445   </td><td> 826.1502</td></tr>\n",
       "\t<tr><td>member   </td><td>Wed      </td><td>500329   </td><td> 823.9655</td></tr>\n",
       "\t<tr><td>member   </td><td>Thu      </td><td>479341   </td><td> 822.8557</td></tr>\n",
       "\t<tr><td>member   </td><td>Fri      </td><td>439526   </td><td> 824.4129</td></tr>\n",
       "\t<tr><td>member   </td><td>Sat      </td><td>277479   </td><td> 968.1321</td></tr>\n",
       "</tbody>\n",
       "</table>\n"
      ],
      "text/latex": [
       "\\begin{tabular}{r|llll}\n",
       " member\\_casual & weekday & number\\_of\\_rides & average\\_duration\\\\\n",
       "\\hline\n",
       "\t casual    & Sun       & 174768    & 3608.0002\\\\\n",
       "\t casual    & Mon       & 103296    & 3372.3583\\\\\n",
       "\t casual    & Tue       &  90510    & 3596.3971\\\\\n",
       "\t casual    & Wed       &  92457    & 3719.0577\\\\\n",
       "\t casual    & Thu       & 101142    & 3706.0930\\\\\n",
       "\t casual    & Fri       & 117753    & 3822.7908\\\\\n",
       "\t casual    & Sat       & 198604    & 3362.6271\\\\\n",
       "\t member    & Sun       & 260608    &  919.1142\\\\\n",
       "\t member    & Mon       & 472196    &  842.5924\\\\\n",
       "\t member    & Tue       & 508445    &  826.1502\\\\\n",
       "\t member    & Wed       & 500329    &  823.9655\\\\\n",
       "\t member    & Thu       & 479341    &  822.8557\\\\\n",
       "\t member    & Fri       & 439526    &  824.4129\\\\\n",
       "\t member    & Sat       & 277479    &  968.1321\\\\\n",
       "\\end{tabular}\n"
      ],
      "text/markdown": [
       "\n",
       "| member_casual | weekday | number_of_rides | average_duration |\n",
       "|---|---|---|---|\n",
       "| casual    | Sun       | 174768    | 3608.0002 |\n",
       "| casual    | Mon       | 103296    | 3372.3583 |\n",
       "| casual    | Tue       |  90510    | 3596.3971 |\n",
       "| casual    | Wed       |  92457    | 3719.0577 |\n",
       "| casual    | Thu       | 101142    | 3706.0930 |\n",
       "| casual    | Fri       | 117753    | 3822.7908 |\n",
       "| casual    | Sat       | 198604    | 3362.6271 |\n",
       "| member    | Sun       | 260608    |  919.1142 |\n",
       "| member    | Mon       | 472196    |  842.5924 |\n",
       "| member    | Tue       | 508445    |  826.1502 |\n",
       "| member    | Wed       | 500329    |  823.9655 |\n",
       "| member    | Thu       | 479341    |  822.8557 |\n",
       "| member    | Fri       | 439526    |  824.4129 |\n",
       "| member    | Sat       | 277479    |  968.1321 |\n",
       "\n"
      ],
      "text/plain": [
       "   member_casual weekday number_of_rides average_duration\n",
       "1  casual        Sun     174768          3608.0002       \n",
       "2  casual        Mon     103296          3372.3583       \n",
       "3  casual        Tue      90510          3596.3971       \n",
       "4  casual        Wed      92457          3719.0577       \n",
       "5  casual        Thu     101142          3706.0930       \n",
       "6  casual        Fri     117753          3822.7908       \n",
       "7  casual        Sat     198604          3362.6271       \n",
       "8  member        Sun     260608           919.1142       \n",
       "9  member        Mon     472196           842.5924       \n",
       "10 member        Tue     508445           826.1502       \n",
       "11 member        Wed     500329           823.9655       \n",
       "12 member        Thu     479341           822.8557       \n",
       "13 member        Fri     439526           824.4129       \n",
       "14 member        Sat     277479           968.1321       "
      ]
     },
     "metadata": {},
     "output_type": "display_data"
    }
   ],
   "source": [
    "# Analyze ridership data by type and weekday\n",
    "\n",
    "all_trips_v2  %>% \n",
    "    mutate(weekday = wday(started_at, label = TRUE))  %>%   # creates weekday field using wday()\n",
    "    group_by(member_casual, weekday) %>%                    # groups by usertype and weekday\n",
    "    summarize(number_of_rides =n()                          # calculates the number of rides\n",
    "             ,average_duration = mean(ride_length)) %>%     # calculates average duration\n",
    "    arrange(member_casual, weekday)                         # sorts"
   ]
  },
  {
   "cell_type": "code",
   "execution_count": 34,
   "id": "d66151bb",
   "metadata": {},
   "outputs": [
    {
     "data": {
      "image/png": "[encoded data removed]",
      "text/plain": [
       "plot without title"
      ]
     },
     "metadata": {},
     "output_type": "display_data"
    }
   ],
   "source": [
    "# Visualize the number of rides by rider type\n",
    "\n",
    "all_trips_v2 %>% \n",
    "    mutate(weekday = wday(started_at, label = TRUE))  %>% \n",
    "    group_by(member_casual, weekday)  %>% \n",
    "    summarize(number_of_rides = n(),\n",
    "              average_duration = mean(ride_length)) %>% \n",
    "    arrange(member_casual, weekday)  %>% \n",
    "    ggplot(aes(weekday, number_of_rides, fill = member_casual))+\n",
    "    geom_col(position = \"dodge\")"
   ]
  },
  {
   "cell_type": "code",
   "execution_count": 35,
   "id": "596a4973",
   "metadata": {},
   "outputs": [
    {
     "data": {
      "image/png": "[encoded data removed]",
      "text/plain": [
       "plot without title"
      ]
     },
     "metadata": {},
     "output_type": "display_data"
    }
   ],
   "source": [
    "# Visualization for average duration\n",
    "\n",
    "all_trips_v2  %>% \n",
    "    mutate(weekday = wday(started_at, label = TRUE)) %>% \n",
    "    group_by(member_casual, weekday)  %>% \n",
    "    summarize(number_of_rides = n(),\n",
    "             average_duration = mean(ride_length)) %>% \n",
    "    arrange(member_casual, weekday) %>% \n",
    "    ggplot(aes(weekday, average_duration, fill = member_casual))+\n",
    "    geom_col(position = \"dodge\")"
   ]
  },
  {
   "cell_type": "markdown",
   "id": "61bc7f95",
   "metadata": {},
   "source": [
    "### Export summary file for further analysis"
   ]
  },
  {
   "cell_type": "code",
   "execution_count": 36,
   "id": "933aaff3",
   "metadata": {},
   "outputs": [
    {
     "name": "stderr",
     "output_type": "stream",
     "text": [
      "Warning message in file(file, ifelse(append, \"a\", \"w\")):\n",
      "\"cannot open file 'C:\\Users\\alihs\\Documents\\R New Project 01\\Case 1 - Cyclist Bike Study\\avg_ride_length.csv': No such file or directory\""
     ]
    },
    {
     "ename": "ERROR",
     "evalue": "Error in file(file, ifelse(append, \"a\", \"w\")): cannot open the connection\n",
     "output_type": "error",
     "traceback": [
      "Error in file(file, ifelse(append, \"a\", \"w\")): cannot open the connection\nTraceback:\n",
      "1. write.csv(counts, file = \"C:\\\\Users\\\\alihs\\\\Documents\\\\R New Project 01\\\\Case 1 - Cyclist Bike Study\\\\avg_ride_length.csv\")",
      "2. eval.parent(Call)",
      "3. eval(expr, p)",
      "4. eval(expr, p)",
      "5. write.table(counts, file = \"C:\\\\Users\\\\alihs\\\\Documents\\\\R New Project 01\\\\Case 1 - Cyclist Bike Study\\\\avg_ride_length.csv\", \n .     col.names = NA, sep = \",\", dec = \".\", qmethod = \"double\")",
      "6. file(file, ifelse(append, \"a\", \"w\"))"
     ]
    }
   ],
   "source": [
    "# Create csv file that we can visualize in Excel, Tableau or any other presentation software\n",
    "\n",
    "counts <- aggregate(all_trips_v2$ride_length ~ all_trips_v2$member_casual + all_trips_v2$day_of_week, FUN = mean)\n",
    "write.csv(counts, file = 'C:\\\\Users\\\\alihs\\\\Documents\\\\R New Project 01\\\\Case 1 - Cyclist Bike Study\\\\avg_ride_length.csv')"
   ]
  },
  {
   "cell_type": "markdown",
   "id": "fca6c412",
   "metadata": {},
   "source": [
    "### Key Steps Taken\n",
    "\n",
    "*Data Wrangling (Combining data into one file)*\n",
    "1. Renamed Columns\n",
    "2. Converted column data types to the same \n",
    "3. Stacked all individual dataframes into one big dataframe\n",
    "4. Removed unrequired columns\n",
    "\n",
    "*Data Cleaning*\n",
    "1. Changed all labels in 'member_type' to same categories (i.e. member and casual)\n",
    "2. Parsed out the date into date, month, year, day_of_week\n",
    "3. Added column with calculation\n",
    "4. Converted data type of column \n",
    "5. Filtered out unnecessary data\n",
    "\n",
    "*Data Analysis*\n",
    "1. Calculated Mean/Median/Max/Min of ride length\n",
    "2. Compared ride times by the week day\n",
    "3. Calculated average ride time by member type\n",
    "4. Analyzed ridership by type and weekday\n",
    "5. Prepared graphs "
   ]
  }
 ],
 "metadata": {
  "kernelspec": {
   "display_name": "R",
   "language": "R",
   "name": "ir"
  },
  "language_info": {
   "codemirror_mode": "r",
   "file_extension": ".r",
   "mimetype": "text/x-r-source",
   "name": "R",
   "pygments_lexer": "r",
   "version": "3.6.1"
  }
 },
 "nbformat": 4,
 "nbformat_minor": 5
}
